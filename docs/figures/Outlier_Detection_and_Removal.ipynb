{
 "cells": [
  {
   "cell_type": "markdown",
   "id": "40fe4c97",
   "metadata": {},
   "source": [
    "\n",
    "# Outlier Detection and Removal\n",
    "\n",
    "This notebook demonstrates how to detect and remove outliers using **Z-Score** and **IQR** methods.\n",
    "\n",
    "Dataset: Simulated crypto prices with intentional outliers.\n"
   ]
  },
  {
   "cell_type": "code",
   "execution_count": null,
   "id": "cc66ed0b",
   "metadata": {},
   "outputs": [],
   "source": [
    "\n",
    "import pandas as pd\n",
    "import numpy as np\n",
    "import matplotlib.pyplot as plt\n",
    "import seaborn as sns\n",
    "\n",
    "# Create sample data with outliers\n",
    "np.random.seed(42)\n",
    "prices = np.random.normal(loc=50000, scale=5000, size=100)\n",
    "prices = np.append(prices, [150000, 200000, 250000])  # extreme outliers\n",
    "df = pd.DataFrame({'Crypto_Price': prices})\n",
    "\n",
    "# Save to CSV for inspection\n",
    "df.to_csv('../data/crypto_prices_with_outliers.csv', index=False)\n",
    "df.head()\n"
   ]
  },
  {
   "cell_type": "code",
   "execution_count": null,
   "id": "ced25f6a",
   "metadata": {},
   "outputs": [],
   "source": [
    "\n",
    "# Original boxplot with outliers\n",
    "plt.figure(figsize=(6, 4))\n",
    "sns.boxplot(x=df['Crypto_Price'], color='skyblue')\n",
    "plt.title(\"Original Data with Outliers\")\n",
    "plt.grid(True)\n",
    "plt.show()\n"
   ]
  },
  {
   "cell_type": "code",
   "execution_count": null,
   "id": "2cad9160",
   "metadata": {},
   "outputs": [],
   "source": [
    "\n",
    "# Z-Score Method\n",
    "from scipy.stats import zscore\n",
    "\n",
    "df_z = df[(np.abs(zscore(df['Crypto_Price'])) < 3)]\n",
    "print(f\"Original: {len(df)}, After Z-Score Removal: {len(df_z)}\")\n"
   ]
  },
  {
   "cell_type": "code",
   "execution_count": null,
   "id": "05c03a04",
   "metadata": {},
   "outputs": [],
   "source": [
    "\n",
    "# IQR Method\n",
    "Q1 = df['Crypto_Price'].quantile(0.25)\n",
    "Q3 = df['Crypto_Price'].quantile(0.75)\n",
    "IQR = Q3 - Q1\n",
    "lower = Q1 - 1.5 * IQR\n",
    "upper = Q3 + 1.5 * IQR\n",
    "\n",
    "df_iqr = df[(df['Crypto_Price'] >= lower) & (df['Crypto_Price'] <= upper)]\n",
    "print(f\"Original: {len(df)}, After IQR Removal: {len(df_iqr)}\")\n"
   ]
  },
  {
   "cell_type": "code",
   "execution_count": null,
   "id": "51c0ba16",
   "metadata": {},
   "outputs": [],
   "source": [
    "\n",
    "# Compare boxplots\n",
    "fig, axs = plt.subplots(1, 3, figsize=(18, 5))\n",
    "\n",
    "sns.boxplot(ax=axs[0], x=df['Crypto_Price'], color='skyblue')\n",
    "axs[0].set_title(\"Original\")\n",
    "\n",
    "sns.boxplot(ax=axs[1], x=df_z['Crypto_Price'], color='orange')\n",
    "axs[1].set_title(\"Z-Score Cleaned\")\n",
    "\n",
    "sns.boxplot(ax=axs[2], x=df_iqr['Crypto_Price'], color='lightgreen')\n",
    "axs[2].set_title(\"IQR Cleaned\")\n",
    "\n",
    "plt.tight_layout()\n",
    "plt.show()\n"
   ]
  }
 ],
 "metadata": {},
 "nbformat": 4,
 "nbformat_minor": 5
}
