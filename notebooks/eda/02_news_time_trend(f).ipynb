{
 "cells": [
  {
   "cell_type": "code",
   "execution_count": 1,
   "id": "c7b01d89-cd83-4e44-8b4a-fb74c0a617d3",
   "metadata": {},
   "outputs": [],
   "source": [
    "import pandas as pd \n"
   ]
  },
  {
   "cell_type": "code",
   "execution_count": 7,
   "id": "6fb9babb-51b7-4f6b-a279-55928d097a51",
   "metadata": {},
   "outputs": [
    {
     "data": {
      "text/plain": [
       "Index(['Unnamed: 0', 'category', 'datetime', 'headline', 'id', 'image',\n",
       "       'related', 'source', 'summary', 'url'],\n",
       "      dtype='object')"
      ]
     },
     "execution_count": 7,
     "metadata": {},
     "output_type": "execute_result"
    }
   ],
   "source": [
    "data=pd.read_csv(r'C:\\Users\\Hi\\Finlang\\src\\data\\raw\\news_data.csv')\n",
    "# print(data.head(5))\n",
    "data.columns\n"
   ]
  },
  {
   "cell_type": "code",
   "execution_count": 9,
   "id": "4cd3c842-7b95-4170-9ca9-4a65192a5480",
   "metadata": {},
   "outputs": [
    {
     "name": "stderr",
     "output_type": "stream",
     "text": [
      "C:\\Users\\Hi\\AppData\\Local\\Temp\\ipykernel_2876\\1388382398.py:1: UserWarning: Could not infer format, so each element will be parsed individually, falling back to `dateutil`. To ensure parsing is consistent and as-expected, please specify a format.\n",
      "  data=pd.read_csv(r'C:\\Users\\Hi\\Finlang\\src\\data\\raw\\news_data.csv',parse_dates=['datetime'])\n"
     ]
    },
    {
     "data": {
      "text/html": [
       "<div>\n",
       "<style scoped>\n",
       "    .dataframe tbody tr th:only-of-type {\n",
       "        vertical-align: middle;\n",
       "    }\n",
       "\n",
       "    .dataframe tbody tr th {\n",
       "        vertical-align: top;\n",
       "    }\n",
       "\n",
       "    .dataframe thead th {\n",
       "        text-align: right;\n",
       "    }\n",
       "</style>\n",
       "<table border=\"1\" class=\"dataframe\">\n",
       "  <thead>\n",
       "    <tr style=\"text-align: right;\">\n",
       "      <th></th>\n",
       "      <th>Unnamed: 0</th>\n",
       "      <th>category</th>\n",
       "      <th>datetime</th>\n",
       "      <th>headline</th>\n",
       "      <th>id</th>\n",
       "      <th>image</th>\n",
       "      <th>related</th>\n",
       "      <th>source</th>\n",
       "      <th>summary</th>\n",
       "      <th>url</th>\n",
       "    </tr>\n",
       "  </thead>\n",
       "  <tbody>\n",
       "    <tr>\n",
       "      <th>0</th>\n",
       "      <td>0</td>\n",
       "      <td>top news</td>\n",
       "      <td>1744891020</td>\n",
       "      <td>Trump calls for Powell ‘termination’ in way th...</td>\n",
       "      <td>7473496</td>\n",
       "      <td>https://static2.finnhub.io/file/publicdatany/f...</td>\n",
       "      <td>NaN</td>\n",
       "      <td>MarketWatch</td>\n",
       "      <td>Analysts at Evercore led by Krishna Guha said ...</td>\n",
       "      <td>https://www.marketwatch.com/story/trump-calls-...</td>\n",
       "    </tr>\n",
       "    <tr>\n",
       "      <th>1</th>\n",
       "      <td>1</td>\n",
       "      <td>top news</td>\n",
       "      <td>1744890480</td>\n",
       "      <td>American Express says its customers are ‘eatin...</td>\n",
       "      <td>7473497</td>\n",
       "      <td>https://static2.finnhub.io/file/publicdatany/f...</td>\n",
       "      <td>NaN</td>\n",
       "      <td>MarketWatch</td>\n",
       "      <td>Amex’s CEO said that recent metrics are “in ma...</td>\n",
       "      <td>https://www.marketwatch.com/story/american-exp...</td>\n",
       "    </tr>\n",
       "    <tr>\n",
       "      <th>2</th>\n",
       "      <td>2</td>\n",
       "      <td>top news</td>\n",
       "      <td>1744890480</td>\n",
       "      <td>Eli Lilly’s stock soars as successful trial of...</td>\n",
       "      <td>7473498</td>\n",
       "      <td>https://static2.finnhub.io/file/publicdatany/f...</td>\n",
       "      <td>NaN</td>\n",
       "      <td>MarketWatch</td>\n",
       "      <td>If approved, the pill is expected to be far ea...</td>\n",
       "      <td>https://www.marketwatch.com/story/eli-lillys-s...</td>\n",
       "    </tr>\n",
       "    <tr>\n",
       "      <th>3</th>\n",
       "      <td>3</td>\n",
       "      <td>top news</td>\n",
       "      <td>1744889880</td>\n",
       "      <td>The Treasury market is tipping its hand. Stock...</td>\n",
       "      <td>7473491</td>\n",
       "      <td>https://static2.finnhub.io/file/publicdatany/f...</td>\n",
       "      <td>NaN</td>\n",
       "      <td>MarketWatch</td>\n",
       "      <td>Watch what smart players like Warren Buffett a...</td>\n",
       "      <td>https://www.marketwatch.com/story/the-treasury...</td>\n",
       "    </tr>\n",
       "    <tr>\n",
       "      <th>4</th>\n",
       "      <td>4</td>\n",
       "      <td>top news</td>\n",
       "      <td>1744889400</td>\n",
       "      <td>Wall Street is hyper bullish on Meta’s stock: ...</td>\n",
       "      <td>7473492</td>\n",
       "      <td>https://static2.finnhub.io/file/publicdatany/f...</td>\n",
       "      <td>NaN</td>\n",
       "      <td>MarketWatch</td>\n",
       "      <td>Meta’s stock trades at a bargain relative to s...</td>\n",
       "      <td>https://www.marketwatch.com/story/wall-street-...</td>\n",
       "    </tr>\n",
       "  </tbody>\n",
       "</table>\n",
       "</div>"
      ],
      "text/plain": [
       "   Unnamed: 0  category    datetime  \\\n",
       "0           0  top news  1744891020   \n",
       "1           1  top news  1744890480   \n",
       "2           2  top news  1744890480   \n",
       "3           3  top news  1744889880   \n",
       "4           4  top news  1744889400   \n",
       "\n",
       "                                            headline       id  \\\n",
       "0  Trump calls for Powell ‘termination’ in way th...  7473496   \n",
       "1  American Express says its customers are ‘eatin...  7473497   \n",
       "2  Eli Lilly’s stock soars as successful trial of...  7473498   \n",
       "3  The Treasury market is tipping its hand. Stock...  7473491   \n",
       "4  Wall Street is hyper bullish on Meta’s stock: ...  7473492   \n",
       "\n",
       "                                               image  related       source  \\\n",
       "0  https://static2.finnhub.io/file/publicdatany/f...      NaN  MarketWatch   \n",
       "1  https://static2.finnhub.io/file/publicdatany/f...      NaN  MarketWatch   \n",
       "2  https://static2.finnhub.io/file/publicdatany/f...      NaN  MarketWatch   \n",
       "3  https://static2.finnhub.io/file/publicdatany/f...      NaN  MarketWatch   \n",
       "4  https://static2.finnhub.io/file/publicdatany/f...      NaN  MarketWatch   \n",
       "\n",
       "                                             summary  \\\n",
       "0  Analysts at Evercore led by Krishna Guha said ...   \n",
       "1  Amex’s CEO said that recent metrics are “in ma...   \n",
       "2  If approved, the pill is expected to be far ea...   \n",
       "3  Watch what smart players like Warren Buffett a...   \n",
       "4  Meta’s stock trades at a bargain relative to s...   \n",
       "\n",
       "                                                 url  \n",
       "0  https://www.marketwatch.com/story/trump-calls-...  \n",
       "1  https://www.marketwatch.com/story/american-exp...  \n",
       "2  https://www.marketwatch.com/story/eli-lillys-s...  \n",
       "3  https://www.marketwatch.com/story/the-treasury...  \n",
       "4  https://www.marketwatch.com/story/wall-street-...  "
      ]
     },
     "execution_count": 9,
     "metadata": {},
     "output_type": "execute_result"
    }
   ],
   "source": [
    "data=pd.read_csv(r'C:\\Users\\Hi\\Finlang\\src\\data\\raw\\news_data.csv',parse_dates=['datetime'])\n",
    "data.head(5)\n"
   ]
  },
  {
   "cell_type": "code",
   "execution_count": 13,
   "id": "ee11d78a-7fe4-442b-8e56-a861e3d84814",
   "metadata": {},
   "outputs": [
    {
     "ename": "NameError",
     "evalue": "name 'pandas' is not defined",
     "output_type": "error",
     "traceback": [
      "\u001b[1;31m---------------------------------------------------------------------------\u001b[0m",
      "\u001b[1;31mNameError\u001b[0m                                 Traceback (most recent call last)",
      "Cell \u001b[1;32mIn[13], line 1\u001b[0m\n\u001b[1;32m----> 1\u001b[0m help(pandas\u001b[38;5;241m.\u001b[39mparse_dates)\n",
      "\u001b[1;31mNameError\u001b[0m: name 'pandas' is not defined"
     ]
    }
   ],
   "source": [
    "help(pandas.parse_dates)"
   ]
  },
  {
   "cell_type": "code",
   "execution_count": null,
   "id": "acd5a891-aa37-464b-ab6b-ce43e9907b42",
   "metadata": {},
   "outputs": [],
   "source": []
  }
 ],
 "metadata": {
  "kernelspec": {
   "display_name": "Python 3 (ipykernel)",
   "language": "python",
   "name": "python3"
  },
  "language_info": {
   "codemirror_mode": {
    "name": "ipython",
    "version": 3
   },
   "file_extension": ".py",
   "mimetype": "text/x-python",
   "name": "python",
   "nbconvert_exporter": "python",
   "pygments_lexer": "ipython3",
   "version": "3.12.4"
  }
 },
 "nbformat": 4,
 "nbformat_minor": 5
}
