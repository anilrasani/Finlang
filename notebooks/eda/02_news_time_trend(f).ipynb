{
 "cells": [
  {
   "cell_type": "code",
   "execution_count": 1,
   "id": "da5799bd-4c97-4f70-b0dd-e782b4db4812",
   "metadata": {},
   "outputs": [],
   "source": [
    "import pandas as pd\n",
    "import json\n",
    "import requests\n",
    "import matplotlib.pyplot as plt\n",
    "import seaborn as sns"
   ]
  },
  {
   "cell_type": "code",
   "execution_count": 2,
   "id": "9dd49f7a-b7e1-43c8-9ca9-9c2061fd13c5",
   "metadata": {},
   "outputs": [
    {
     "name": "stdout",
     "output_type": "stream",
     "text": [
      "Json data successfully extracted...!\n",
      "   category    datetime                                           headline  \\\n",
      "0  top news  1745539260  Alphabet’s blowout earnings may mark the peak ...   \n",
      "1  top news  1745538649  Alphabet expects 'slight headwind' to ads busi...   \n",
      "2  top news  1745535772  Jim Cramer credits this week's rally to earnin...   \n",
      "3  top news  1745535000  S&P 500’s rapid exit from correction territory...   \n",
      "4  top news  1745530320  Democrats ask if the $1 billion in DOGE cost-c...   \n",
      "\n",
      "        id                                              image related  \\\n",
      "0  7475478  https://static2.finnhub.io/file/publicdatany/f...           \n",
      "1  7475476  https://image.cnbcfm.com/api/v1/image/10813640...           \n",
      "2  7475477  https://image.cnbcfm.com/api/v1/image/10707631...           \n",
      "3  7475462  https://static2.finnhub.io/file/publicdatany/f...           \n",
      "4  7475437  https://static2.finnhub.io/file/publicdatany/f...           \n",
      "\n",
      "        source                                            summary  \\\n",
      "0  MarketWatch  Google’s cloud business has big opportunity ah...   \n",
      "1         CNBC  The comments come as Alphabet and other tech c...   \n",
      "2         CNBC   CNBC's Jim Cramer analyzed recent market action.   \n",
      "3  MarketWatch  The stock market just recouped a stunning $4.2...   \n",
      "4  MarketWatch  Senators ask for the impact of staffing cuts a...   \n",
      "\n",
      "                                                 url  \n",
      "0  https://www.marketwatch.com/story/alphabets-bl...  \n",
      "1  https://www.cnbc.com/2025/04/24/alphabet-expec...  \n",
      "2  https://www.cnbc.com/2025/04/24/jim-cramer-att...  \n",
      "3  https://www.marketwatch.com/story/s-p-500s-rap...  \n",
      "4  https://www.marketwatch.com/story/democrats-as...  \n",
      "news_data saved into csv format..!\n"
     ]
    }
   ],
   "source": [
    "\n",
    "finnhub_api_key = 'cpg1ma1r01ql1vn3fk4gcpg1ma1r01ql1vn3fk50'\n",
    "url=f'https://finnhub.io/api/v1/news?category=general&token={finnhub_api_key}'\n",
    "\n",
    "response=requests.get(url)\n",
    "data=response.json()\n",
    "\n",
    "if response.status_code==200:\n",
    "    with open (r'C:\\Users\\Hi\\Finlang\\src\\data\\raw\\newsapi\\extracted_json_data.json' ,'w') as file:\n",
    "        json.dump(data,file,indent=4)\n",
    "    print('Json data successfully extracted...!')\n",
    "else:\n",
    "    print(f'failed due to {response.status_code}')\n",
    "\n",
    "with open(r'C:\\Users\\Hi\\Finlang\\src\\data\\raw\\newsapi\\extracted_json_data.json' ,'r') as file:\n",
    "    news_data=json.load(file)\n",
    "    data=pd.DataFrame(news_data)\n",
    "    print(data.head(5))\n",
    "\n",
    "data.to_csv(r'C:\\Users\\Hi\\Finlang\\src\\data\\raw\\news_data.csv')\n",
    "print(f'news_data saved into csv format..!')"
   ]
  },
  {
   "cell_type": "code",
   "execution_count": 3,
   "id": "56550c17-f733-4b1b-b48d-bc9c2466ff37",
   "metadata": {},
   "outputs": [],
   "source": [
    "# Load & Clean Data"
   ]
  },
  {
   "cell_type": "code",
   "execution_count": 4,
   "id": "c7b01d89-cd83-4e44-8b4a-fb74c0a617d3",
   "metadata": {},
   "outputs": [
    {
     "data": {
      "text/html": [
       "<div>\n",
       "<style scoped>\n",
       "    .dataframe tbody tr th:only-of-type {\n",
       "        vertical-align: middle;\n",
       "    }\n",
       "\n",
       "    .dataframe tbody tr th {\n",
       "        vertical-align: top;\n",
       "    }\n",
       "\n",
       "    .dataframe thead th {\n",
       "        text-align: right;\n",
       "    }\n",
       "</style>\n",
       "<table border=\"1\" class=\"dataframe\">\n",
       "  <thead>\n",
       "    <tr style=\"text-align: right;\">\n",
       "      <th></th>\n",
       "      <th>Unnamed: 0</th>\n",
       "      <th>category</th>\n",
       "      <th>datetime</th>\n",
       "      <th>headline</th>\n",
       "      <th>id</th>\n",
       "      <th>image</th>\n",
       "      <th>related</th>\n",
       "      <th>source</th>\n",
       "      <th>summary</th>\n",
       "      <th>url</th>\n",
       "    </tr>\n",
       "  </thead>\n",
       "  <tbody>\n",
       "    <tr>\n",
       "      <th>0</th>\n",
       "      <td>0</td>\n",
       "      <td>top news</td>\n",
       "      <td>1745539260</td>\n",
       "      <td>Alphabet’s blowout earnings may mark the peak ...</td>\n",
       "      <td>7475478</td>\n",
       "      <td>https://static2.finnhub.io/file/publicdatany/f...</td>\n",
       "      <td>NaN</td>\n",
       "      <td>MarketWatch</td>\n",
       "      <td>Google’s cloud business has big opportunity ah...</td>\n",
       "      <td>https://www.marketwatch.com/story/alphabets-bl...</td>\n",
       "    </tr>\n",
       "    <tr>\n",
       "      <th>1</th>\n",
       "      <td>1</td>\n",
       "      <td>top news</td>\n",
       "      <td>1745538649</td>\n",
       "      <td>Alphabet expects 'slight headwind' to ads busi...</td>\n",
       "      <td>7475476</td>\n",
       "      <td>https://image.cnbcfm.com/api/v1/image/10813640...</td>\n",
       "      <td>NaN</td>\n",
       "      <td>CNBC</td>\n",
       "      <td>The comments come as Alphabet and other tech c...</td>\n",
       "      <td>https://www.cnbc.com/2025/04/24/alphabet-expec...</td>\n",
       "    </tr>\n",
       "  </tbody>\n",
       "</table>\n",
       "</div>"
      ],
      "text/plain": [
       "   Unnamed: 0  category    datetime  \\\n",
       "0           0  top news  1745539260   \n",
       "1           1  top news  1745538649   \n",
       "\n",
       "                                            headline       id  \\\n",
       "0  Alphabet’s blowout earnings may mark the peak ...  7475478   \n",
       "1  Alphabet expects 'slight headwind' to ads busi...  7475476   \n",
       "\n",
       "                                               image  related       source  \\\n",
       "0  https://static2.finnhub.io/file/publicdatany/f...      NaN  MarketWatch   \n",
       "1  https://image.cnbcfm.com/api/v1/image/10813640...      NaN         CNBC   \n",
       "\n",
       "                                             summary  \\\n",
       "0  Google’s cloud business has big opportunity ah...   \n",
       "1  The comments come as Alphabet and other tech c...   \n",
       "\n",
       "                                                 url  \n",
       "0  https://www.marketwatch.com/story/alphabets-bl...  \n",
       "1  https://www.cnbc.com/2025/04/24/alphabet-expec...  "
      ]
     },
     "execution_count": 4,
     "metadata": {},
     "output_type": "execute_result"
    }
   ],
   "source": [
    "import pandas as pd \n",
    "\n",
    "data=pd.read_csv(r'C:\\Users\\Hi\\Finlang\\src\\data\\raw\\news_data.csv')\n",
    "data.head(2)"
   ]
  },
  {
   "cell_type": "code",
   "execution_count": 5,
   "id": "6fb9babb-51b7-4f6b-a279-55928d097a51",
   "metadata": {},
   "outputs": [
    {
     "data": {
      "text/plain": [
       "<bound method DataFrame.info of     Unnamed: 0  category    datetime  \\\n",
       "0            0  top news  1745539260   \n",
       "1            1  top news  1745538649   \n",
       "2            2  top news  1745535772   \n",
       "3            3  top news  1745535000   \n",
       "4            4  top news  1745530320   \n",
       "..         ...       ...         ...   \n",
       "95          95  top news  1745405640   \n",
       "96          96  top news  1745405625   \n",
       "97          97  top news  1745404680   \n",
       "98          98  top news  1745403780   \n",
       "99          99  top news  1745399700   \n",
       "\n",
       "                                             headline       id  \\\n",
       "0   Alphabet’s blowout earnings may mark the peak ...  7475478   \n",
       "1   Alphabet expects 'slight headwind' to ads busi...  7475476   \n",
       "2   Jim Cramer credits this week's rally to earnin...  7475477   \n",
       "3   S&P 500’s rapid exit from correction territory...  7475462   \n",
       "4   Democrats ask if the $1 billion in DOGE cost-c...  7475437   \n",
       "..                                                ...      ...   \n",
       "95  The buying opportunity of a lifetime is coming...  7474751   \n",
       "96  Adani eyes $750 million offshore loan to fund ...  7475196   \n",
       "97  Apple and Meta just got hit with big fines fro...  7474721   \n",
       "98  Here’s how far the stock market and other asse...  7474722   \n",
       "99  ‘I survived a head-on car wreck’: I’m on Medic...  7474713   \n",
       "\n",
       "                                                image  related       source  \\\n",
       "0   https://static2.finnhub.io/file/publicdatany/f...      NaN  MarketWatch   \n",
       "1   https://image.cnbcfm.com/api/v1/image/10813640...      NaN         CNBC   \n",
       "2   https://image.cnbcfm.com/api/v1/image/10707631...      NaN         CNBC   \n",
       "3   https://static2.finnhub.io/file/publicdatany/f...      NaN  MarketWatch   \n",
       "4   https://static2.finnhub.io/file/publicdatany/f...      NaN  MarketWatch   \n",
       "..                                                ...      ...          ...   \n",
       "95  https://static2.finnhub.io/file/publicdatany/f...      NaN  MarketWatch   \n",
       "96  https://data.bloomberglp.com/company/sites/2/2...      NaN    Bloomberg   \n",
       "97  https://static2.finnhub.io/file/publicdatany/f...      NaN  MarketWatch   \n",
       "98  https://static2.finnhub.io/file/publicdatany/f...      NaN  MarketWatch   \n",
       "99  https://static2.finnhub.io/file/publicdatany/f...      NaN  MarketWatch   \n",
       "\n",
       "                                              summary  \\\n",
       "0   Google’s cloud business has big opportunity ah...   \n",
       "1   The comments come as Alphabet and other tech c...   \n",
       "2    CNBC's Jim Cramer analyzed recent market action.   \n",
       "3   The stock market just recouped a stunning $4.2...   \n",
       "4   Senators ask for the impact of staffing cuts a...   \n",
       "..                                                ...   \n",
       "95  Thomas Kee argues that the S&P 500 is far from...   \n",
       "96  Adani Airport Holdings Ltd., which manages sev...   \n",
       "97  Apple and Meta Platforms were both fined hundr...   \n",
       "98  Financial markets have been volatile, but a co...   \n",
       "99  “About 30 years ago, I survived a head-on car ...   \n",
       "\n",
       "                                                  url  \n",
       "0   https://www.marketwatch.com/story/alphabets-bl...  \n",
       "1   https://www.cnbc.com/2025/04/24/alphabet-expec...  \n",
       "2   https://www.cnbc.com/2025/04/24/jim-cramer-att...  \n",
       "3   https://www.marketwatch.com/story/s-p-500s-rap...  \n",
       "4   https://www.marketwatch.com/story/democrats-as...  \n",
       "..                                                ...  \n",
       "95  https://www.marketwatch.com/story/the-buying-o...  \n",
       "96  https://www.bloomberg.com/news/articles/2025-0...  \n",
       "97  https://www.marketwatch.com/story/apple-and-me...  \n",
       "98  https://www.marketwatch.com/story/heres-how-fa...  \n",
       "99  https://www.marketwatch.com/story/i-survived-a...  \n",
       "\n",
       "[100 rows x 10 columns]>"
      ]
     },
     "execution_count": 5,
     "metadata": {},
     "output_type": "execute_result"
    }
   ],
   "source": [
    "\n",
    "data.info"
   ]
  },
  {
   "cell_type": "code",
   "execution_count": 6,
   "id": "4cd3c842-7b95-4170-9ca9-4a65192a5480",
   "metadata": {},
   "outputs": [
    {
     "data": {
      "text/plain": [
       "Index(['Unnamed: 0', 'category', 'datetime', 'headline', 'id', 'image',\n",
       "       'related', 'source', 'summary', 'url'],\n",
       "      dtype='object')"
      ]
     },
     "execution_count": 6,
     "metadata": {},
     "output_type": "execute_result"
    }
   ],
   "source": [
    "data.columns"
   ]
  },
  {
   "cell_type": "code",
   "execution_count": 7,
   "id": "ee11d78a-7fe4-442b-8e56-a861e3d84814",
   "metadata": {},
   "outputs": [],
   "source": [
    "data=data.set_index('id')\n"
   ]
  },
  {
   "cell_type": "code",
   "execution_count": 8,
   "id": "acd5a891-aa37-464b-ab6b-ce43e9907b42",
   "metadata": {},
   "outputs": [
    {
     "data": {
      "text/html": [
       "<div>\n",
       "<style scoped>\n",
       "    .dataframe tbody tr th:only-of-type {\n",
       "        vertical-align: middle;\n",
       "    }\n",
       "\n",
       "    .dataframe tbody tr th {\n",
       "        vertical-align: top;\n",
       "    }\n",
       "\n",
       "    .dataframe thead th {\n",
       "        text-align: right;\n",
       "    }\n",
       "</style>\n",
       "<table border=\"1\" class=\"dataframe\">\n",
       "  <thead>\n",
       "    <tr style=\"text-align: right;\">\n",
       "      <th></th>\n",
       "      <th>Unnamed: 0</th>\n",
       "      <th>category</th>\n",
       "      <th>datetime</th>\n",
       "      <th>headline</th>\n",
       "      <th>image</th>\n",
       "      <th>related</th>\n",
       "      <th>source</th>\n",
       "      <th>summary</th>\n",
       "      <th>url</th>\n",
       "    </tr>\n",
       "    <tr>\n",
       "      <th>id</th>\n",
       "      <th></th>\n",
       "      <th></th>\n",
       "      <th></th>\n",
       "      <th></th>\n",
       "      <th></th>\n",
       "      <th></th>\n",
       "      <th></th>\n",
       "      <th></th>\n",
       "      <th></th>\n",
       "    </tr>\n",
       "  </thead>\n",
       "  <tbody>\n",
       "    <tr>\n",
       "      <th>7475478</th>\n",
       "      <td>0</td>\n",
       "      <td>top news</td>\n",
       "      <td>1745539260</td>\n",
       "      <td>Alphabet’s blowout earnings may mark the peak ...</td>\n",
       "      <td>https://static2.finnhub.io/file/publicdatany/f...</td>\n",
       "      <td>NaN</td>\n",
       "      <td>MarketWatch</td>\n",
       "      <td>Google’s cloud business has big opportunity ah...</td>\n",
       "      <td>https://www.marketwatch.com/story/alphabets-bl...</td>\n",
       "    </tr>\n",
       "    <tr>\n",
       "      <th>7475476</th>\n",
       "      <td>1</td>\n",
       "      <td>top news</td>\n",
       "      <td>1745538649</td>\n",
       "      <td>Alphabet expects 'slight headwind' to ads busi...</td>\n",
       "      <td>https://image.cnbcfm.com/api/v1/image/10813640...</td>\n",
       "      <td>NaN</td>\n",
       "      <td>CNBC</td>\n",
       "      <td>The comments come as Alphabet and other tech c...</td>\n",
       "      <td>https://www.cnbc.com/2025/04/24/alphabet-expec...</td>\n",
       "    </tr>\n",
       "    <tr>\n",
       "      <th>7475477</th>\n",
       "      <td>2</td>\n",
       "      <td>top news</td>\n",
       "      <td>1745535772</td>\n",
       "      <td>Jim Cramer credits this week's rally to earnin...</td>\n",
       "      <td>https://image.cnbcfm.com/api/v1/image/10707631...</td>\n",
       "      <td>NaN</td>\n",
       "      <td>CNBC</td>\n",
       "      <td>CNBC's Jim Cramer analyzed recent market action.</td>\n",
       "      <td>https://www.cnbc.com/2025/04/24/jim-cramer-att...</td>\n",
       "    </tr>\n",
       "    <tr>\n",
       "      <th>7475462</th>\n",
       "      <td>3</td>\n",
       "      <td>top news</td>\n",
       "      <td>1745535000</td>\n",
       "      <td>S&amp;P 500’s rapid exit from correction territory...</td>\n",
       "      <td>https://static2.finnhub.io/file/publicdatany/f...</td>\n",
       "      <td>NaN</td>\n",
       "      <td>MarketWatch</td>\n",
       "      <td>The stock market just recouped a stunning $4.2...</td>\n",
       "      <td>https://www.marketwatch.com/story/s-p-500s-rap...</td>\n",
       "    </tr>\n",
       "    <tr>\n",
       "      <th>7475437</th>\n",
       "      <td>4</td>\n",
       "      <td>top news</td>\n",
       "      <td>1745530320</td>\n",
       "      <td>Democrats ask if the $1 billion in DOGE cost-c...</td>\n",
       "      <td>https://static2.finnhub.io/file/publicdatany/f...</td>\n",
       "      <td>NaN</td>\n",
       "      <td>MarketWatch</td>\n",
       "      <td>Senators ask for the impact of staffing cuts a...</td>\n",
       "      <td>https://www.marketwatch.com/story/democrats-as...</td>\n",
       "    </tr>\n",
       "  </tbody>\n",
       "</table>\n",
       "</div>"
      ],
      "text/plain": [
       "         Unnamed: 0  category    datetime  \\\n",
       "id                                          \n",
       "7475478           0  top news  1745539260   \n",
       "7475476           1  top news  1745538649   \n",
       "7475477           2  top news  1745535772   \n",
       "7475462           3  top news  1745535000   \n",
       "7475437           4  top news  1745530320   \n",
       "\n",
       "                                                  headline  \\\n",
       "id                                                           \n",
       "7475478  Alphabet’s blowout earnings may mark the peak ...   \n",
       "7475476  Alphabet expects 'slight headwind' to ads busi...   \n",
       "7475477  Jim Cramer credits this week's rally to earnin...   \n",
       "7475462  S&P 500’s rapid exit from correction territory...   \n",
       "7475437  Democrats ask if the $1 billion in DOGE cost-c...   \n",
       "\n",
       "                                                     image  related  \\\n",
       "id                                                                    \n",
       "7475478  https://static2.finnhub.io/file/publicdatany/f...      NaN   \n",
       "7475476  https://image.cnbcfm.com/api/v1/image/10813640...      NaN   \n",
       "7475477  https://image.cnbcfm.com/api/v1/image/10707631...      NaN   \n",
       "7475462  https://static2.finnhub.io/file/publicdatany/f...      NaN   \n",
       "7475437  https://static2.finnhub.io/file/publicdatany/f...      NaN   \n",
       "\n",
       "              source                                            summary  \\\n",
       "id                                                                        \n",
       "7475478  MarketWatch  Google’s cloud business has big opportunity ah...   \n",
       "7475476         CNBC  The comments come as Alphabet and other tech c...   \n",
       "7475477         CNBC   CNBC's Jim Cramer analyzed recent market action.   \n",
       "7475462  MarketWatch  The stock market just recouped a stunning $4.2...   \n",
       "7475437  MarketWatch  Senators ask for the impact of staffing cuts a...   \n",
       "\n",
       "                                                       url  \n",
       "id                                                          \n",
       "7475478  https://www.marketwatch.com/story/alphabets-bl...  \n",
       "7475476  https://www.cnbc.com/2025/04/24/alphabet-expec...  \n",
       "7475477  https://www.cnbc.com/2025/04/24/jim-cramer-att...  \n",
       "7475462  https://www.marketwatch.com/story/s-p-500s-rap...  \n",
       "7475437  https://www.marketwatch.com/story/democrats-as...  "
      ]
     },
     "execution_count": 8,
     "metadata": {},
     "output_type": "execute_result"
    }
   ],
   "source": [
    "data.head(5)"
   ]
  },
  {
   "cell_type": "code",
   "execution_count": 9,
   "id": "9fed5b92-87d9-4aa2-ba18-d9cc25c61f87",
   "metadata": {},
   "outputs": [
    {
     "data": {
      "text/plain": [
       "Index(['index', 'category', 'datetime', 'headline', 'image', 'related',\n",
       "       'source', 'summary', 'url'],\n",
       "      dtype='object')"
      ]
     },
     "execution_count": 9,
     "metadata": {},
     "output_type": "execute_result"
    }
   ],
   "source": [
    "data=data.rename(columns={'Unnamed: 0':'index'})\n",
    "data.columns"
   ]
  },
  {
   "cell_type": "code",
   "execution_count": 10,
   "id": "24af0a13-0514-44ff-9828-66245a184b42",
   "metadata": {},
   "outputs": [],
   "source": [
    "data=data.drop(columns=['related'])\n"
   ]
  },
  {
   "cell_type": "code",
   "execution_count": 11,
   "id": "2e2a2714-30a0-4789-bf40-7636dc1267b2",
   "metadata": {},
   "outputs": [
    {
     "data": {
      "text/plain": [
       "<bound method DataFrame.info of          index  category    datetime  \\\n",
       "id                                     \n",
       "7475478      0  top news  1745539260   \n",
       "7475476      1  top news  1745538649   \n",
       "7475477      2  top news  1745535772   \n",
       "7475462      3  top news  1745535000   \n",
       "7475437      4  top news  1745530320   \n",
       "...        ...       ...         ...   \n",
       "7474751     95  top news  1745405640   \n",
       "7475196     96  top news  1745405625   \n",
       "7474721     97  top news  1745404680   \n",
       "7474722     98  top news  1745403780   \n",
       "7474713     99  top news  1745399700   \n",
       "\n",
       "                                                  headline  \\\n",
       "id                                                           \n",
       "7475478  Alphabet’s blowout earnings may mark the peak ...   \n",
       "7475476  Alphabet expects 'slight headwind' to ads busi...   \n",
       "7475477  Jim Cramer credits this week's rally to earnin...   \n",
       "7475462  S&P 500’s rapid exit from correction territory...   \n",
       "7475437  Democrats ask if the $1 billion in DOGE cost-c...   \n",
       "...                                                    ...   \n",
       "7474751  The buying opportunity of a lifetime is coming...   \n",
       "7475196  Adani eyes $750 million offshore loan to fund ...   \n",
       "7474721  Apple and Meta just got hit with big fines fro...   \n",
       "7474722  Here’s how far the stock market and other asse...   \n",
       "7474713  ‘I survived a head-on car wreck’: I’m on Medic...   \n",
       "\n",
       "                                                     image       source  \\\n",
       "id                                                                        \n",
       "7475478  https://static2.finnhub.io/file/publicdatany/f...  MarketWatch   \n",
       "7475476  https://image.cnbcfm.com/api/v1/image/10813640...         CNBC   \n",
       "7475477  https://image.cnbcfm.com/api/v1/image/10707631...         CNBC   \n",
       "7475462  https://static2.finnhub.io/file/publicdatany/f...  MarketWatch   \n",
       "7475437  https://static2.finnhub.io/file/publicdatany/f...  MarketWatch   \n",
       "...                                                    ...          ...   \n",
       "7474751  https://static2.finnhub.io/file/publicdatany/f...  MarketWatch   \n",
       "7475196  https://data.bloomberglp.com/company/sites/2/2...    Bloomberg   \n",
       "7474721  https://static2.finnhub.io/file/publicdatany/f...  MarketWatch   \n",
       "7474722  https://static2.finnhub.io/file/publicdatany/f...  MarketWatch   \n",
       "7474713  https://static2.finnhub.io/file/publicdatany/f...  MarketWatch   \n",
       "\n",
       "                                                   summary  \\\n",
       "id                                                           \n",
       "7475478  Google’s cloud business has big opportunity ah...   \n",
       "7475476  The comments come as Alphabet and other tech c...   \n",
       "7475477   CNBC's Jim Cramer analyzed recent market action.   \n",
       "7475462  The stock market just recouped a stunning $4.2...   \n",
       "7475437  Senators ask for the impact of staffing cuts a...   \n",
       "...                                                    ...   \n",
       "7474751  Thomas Kee argues that the S&P 500 is far from...   \n",
       "7475196  Adani Airport Holdings Ltd., which manages sev...   \n",
       "7474721  Apple and Meta Platforms were both fined hundr...   \n",
       "7474722  Financial markets have been volatile, but a co...   \n",
       "7474713  “About 30 years ago, I survived a head-on car ...   \n",
       "\n",
       "                                                       url  \n",
       "id                                                          \n",
       "7475478  https://www.marketwatch.com/story/alphabets-bl...  \n",
       "7475476  https://www.cnbc.com/2025/04/24/alphabet-expec...  \n",
       "7475477  https://www.cnbc.com/2025/04/24/jim-cramer-att...  \n",
       "7475462  https://www.marketwatch.com/story/s-p-500s-rap...  \n",
       "7475437  https://www.marketwatch.com/story/democrats-as...  \n",
       "...                                                    ...  \n",
       "7474751  https://www.marketwatch.com/story/the-buying-o...  \n",
       "7475196  https://www.bloomberg.com/news/articles/2025-0...  \n",
       "7474721  https://www.marketwatch.com/story/apple-and-me...  \n",
       "7474722  https://www.marketwatch.com/story/heres-how-fa...  \n",
       "7474713  https://www.marketwatch.com/story/i-survived-a...  \n",
       "\n",
       "[100 rows x 8 columns]>"
      ]
     },
     "execution_count": 11,
     "metadata": {},
     "output_type": "execute_result"
    }
   ],
   "source": [
    "data.info"
   ]
  },
  {
   "cell_type": "code",
   "execution_count": 12,
   "id": "e598f7e5-cfb2-41b6-a4ef-8d6f2fac5fda",
   "metadata": {},
   "outputs": [
    {
     "data": {
      "text/html": [
       "<div>\n",
       "<style scoped>\n",
       "    .dataframe tbody tr th:only-of-type {\n",
       "        vertical-align: middle;\n",
       "    }\n",
       "\n",
       "    .dataframe tbody tr th {\n",
       "        vertical-align: top;\n",
       "    }\n",
       "\n",
       "    .dataframe thead th {\n",
       "        text-align: right;\n",
       "    }\n",
       "</style>\n",
       "<table border=\"1\" class=\"dataframe\">\n",
       "  <thead>\n",
       "    <tr style=\"text-align: right;\">\n",
       "      <th></th>\n",
       "      <th>index</th>\n",
       "      <th>category</th>\n",
       "      <th>datetime</th>\n",
       "      <th>headline</th>\n",
       "      <th>image</th>\n",
       "      <th>source</th>\n",
       "      <th>summary</th>\n",
       "      <th>url</th>\n",
       "    </tr>\n",
       "    <tr>\n",
       "      <th>id</th>\n",
       "      <th></th>\n",
       "      <th></th>\n",
       "      <th></th>\n",
       "      <th></th>\n",
       "      <th></th>\n",
       "      <th></th>\n",
       "      <th></th>\n",
       "      <th></th>\n",
       "    </tr>\n",
       "  </thead>\n",
       "  <tbody>\n",
       "    <tr>\n",
       "      <th>7475478</th>\n",
       "      <td>0</td>\n",
       "      <td>top news</td>\n",
       "      <td>1745539260</td>\n",
       "      <td>Alphabet’s blowout earnings may mark the peak ...</td>\n",
       "      <td>https://static2.finnhub.io/file/publicdatany/f...</td>\n",
       "      <td>MarketWatch</td>\n",
       "      <td>Google’s cloud business has big opportunity ah...</td>\n",
       "      <td>https://www.marketwatch.com/story/alphabets-bl...</td>\n",
       "    </tr>\n",
       "    <tr>\n",
       "      <th>7475476</th>\n",
       "      <td>1</td>\n",
       "      <td>top news</td>\n",
       "      <td>1745538649</td>\n",
       "      <td>Alphabet expects 'slight headwind' to ads busi...</td>\n",
       "      <td>https://image.cnbcfm.com/api/v1/image/10813640...</td>\n",
       "      <td>CNBC</td>\n",
       "      <td>The comments come as Alphabet and other tech c...</td>\n",
       "      <td>https://www.cnbc.com/2025/04/24/alphabet-expec...</td>\n",
       "    </tr>\n",
       "  </tbody>\n",
       "</table>\n",
       "</div>"
      ],
      "text/plain": [
       "         index  category    datetime  \\\n",
       "id                                     \n",
       "7475478      0  top news  1745539260   \n",
       "7475476      1  top news  1745538649   \n",
       "\n",
       "                                                  headline  \\\n",
       "id                                                           \n",
       "7475478  Alphabet’s blowout earnings may mark the peak ...   \n",
       "7475476  Alphabet expects 'slight headwind' to ads busi...   \n",
       "\n",
       "                                                     image       source  \\\n",
       "id                                                                        \n",
       "7475478  https://static2.finnhub.io/file/publicdatany/f...  MarketWatch   \n",
       "7475476  https://image.cnbcfm.com/api/v1/image/10813640...         CNBC   \n",
       "\n",
       "                                                   summary  \\\n",
       "id                                                           \n",
       "7475478  Google’s cloud business has big opportunity ah...   \n",
       "7475476  The comments come as Alphabet and other tech c...   \n",
       "\n",
       "                                                       url  \n",
       "id                                                          \n",
       "7475478  https://www.marketwatch.com/story/alphabets-bl...  \n",
       "7475476  https://www.cnbc.com/2025/04/24/alphabet-expec...  "
      ]
     },
     "execution_count": 12,
     "metadata": {},
     "output_type": "execute_result"
    }
   ],
   "source": [
    "data.head(2)"
   ]
  },
  {
   "cell_type": "code",
   "execution_count": null,
   "id": "b351ff20-b950-447c-bd95-be8ceb30e93e",
   "metadata": {},
   "outputs": [],
   "source": [
    "\n"
   ]
  },
  {
   "cell_type": "code",
   "execution_count": 13,
   "id": "862930d7-4e5a-4e2f-a122-caf5b51e42f2",
   "metadata": {},
   "outputs": [
    {
     "data": {
      "text/html": [
       "<div>\n",
       "<style scoped>\n",
       "    .dataframe tbody tr th:only-of-type {\n",
       "        vertical-align: middle;\n",
       "    }\n",
       "\n",
       "    .dataframe tbody tr th {\n",
       "        vertical-align: top;\n",
       "    }\n",
       "\n",
       "    .dataframe thead th {\n",
       "        text-align: right;\n",
       "    }\n",
       "</style>\n",
       "<table border=\"1\" class=\"dataframe\">\n",
       "  <thead>\n",
       "    <tr style=\"text-align: right;\">\n",
       "      <th></th>\n",
       "      <th>index</th>\n",
       "      <th>category</th>\n",
       "      <th>datetime</th>\n",
       "      <th>headline</th>\n",
       "      <th>image</th>\n",
       "      <th>source</th>\n",
       "      <th>summary</th>\n",
       "      <th>url</th>\n",
       "    </tr>\n",
       "    <tr>\n",
       "      <th>id</th>\n",
       "      <th></th>\n",
       "      <th></th>\n",
       "      <th></th>\n",
       "      <th></th>\n",
       "      <th></th>\n",
       "      <th></th>\n",
       "      <th></th>\n",
       "      <th></th>\n",
       "    </tr>\n",
       "  </thead>\n",
       "  <tbody>\n",
       "    <tr>\n",
       "      <th>7475478</th>\n",
       "      <td>0</td>\n",
       "      <td>top news</td>\n",
       "      <td>1745539260</td>\n",
       "      <td>Alphabet’s blowout earnings may mark the peak ...</td>\n",
       "      <td>https://static2.finnhub.io/file/publicdatany/f...</td>\n",
       "      <td>MarketWatch</td>\n",
       "      <td>Google’s cloud business has big opportunity ah...</td>\n",
       "      <td>https://www.marketwatch.com/story/alphabets-bl...</td>\n",
       "    </tr>\n",
       "    <tr>\n",
       "      <th>7475476</th>\n",
       "      <td>1</td>\n",
       "      <td>top news</td>\n",
       "      <td>1745538649</td>\n",
       "      <td>Alphabet expects 'slight headwind' to ads busi...</td>\n",
       "      <td>https://image.cnbcfm.com/api/v1/image/10813640...</td>\n",
       "      <td>CNBC</td>\n",
       "      <td>The comments come as Alphabet and other tech c...</td>\n",
       "      <td>https://www.cnbc.com/2025/04/24/alphabet-expec...</td>\n",
       "    </tr>\n",
       "  </tbody>\n",
       "</table>\n",
       "</div>"
      ],
      "text/plain": [
       "         index  category    datetime  \\\n",
       "id                                     \n",
       "7475478      0  top news  1745539260   \n",
       "7475476      1  top news  1745538649   \n",
       "\n",
       "                                                  headline  \\\n",
       "id                                                           \n",
       "7475478  Alphabet’s blowout earnings may mark the peak ...   \n",
       "7475476  Alphabet expects 'slight headwind' to ads busi...   \n",
       "\n",
       "                                                     image       source  \\\n",
       "id                                                                        \n",
       "7475478  https://static2.finnhub.io/file/publicdatany/f...  MarketWatch   \n",
       "7475476  https://image.cnbcfm.com/api/v1/image/10813640...         CNBC   \n",
       "\n",
       "                                                   summary  \\\n",
       "id                                                           \n",
       "7475478  Google’s cloud business has big opportunity ah...   \n",
       "7475476  The comments come as Alphabet and other tech c...   \n",
       "\n",
       "                                                       url  \n",
       "id                                                          \n",
       "7475478  https://www.marketwatch.com/story/alphabets-bl...  \n",
       "7475476  https://www.cnbc.com/2025/04/24/alphabet-expec...  "
      ]
     },
     "execution_count": 13,
     "metadata": {},
     "output_type": "execute_result"
    }
   ],
   "source": [
    "data.head(2)"
   ]
  },
  {
   "cell_type": "code",
   "execution_count": 14,
   "id": "79936bc8-ecd6-48d6-a919-40d8b4e23536",
   "metadata": {},
   "outputs": [
    {
     "data": {
      "text/plain": [
       "id\n",
       "7475478   2025-04-25 00:01:00\n",
       "7475476   2025-04-24 23:50:49\n",
       "7475477   2025-04-24 23:02:52\n",
       "7475462   2025-04-24 22:50:00\n",
       "7475437   2025-04-24 21:32:00\n",
       "                  ...        \n",
       "7474751   2025-04-23 10:54:00\n",
       "7475196   2025-04-23 10:53:45\n",
       "7474721   2025-04-23 10:38:00\n",
       "7474722   2025-04-23 10:23:00\n",
       "7474713   2025-04-23 09:15:00\n",
       "Name: datetime, Length: 100, dtype: datetime64[ns]"
      ]
     },
     "execution_count": 14,
     "metadata": {},
     "output_type": "execute_result"
    }
   ],
   "source": [
    "data['datetime']=pd.to_datetime(data['datetime'],unit='s')\n",
    "data['datetime']"
   ]
  },
  {
   "cell_type": "code",
   "execution_count": 15,
   "id": "3d9c69fa-b1d7-48b3-8a4f-bd1f6067034e",
   "metadata": {},
   "outputs": [
    {
     "data": {
      "text/plain": [
       "id\n",
       "7475478   2025-04-25 00:01:00\n",
       "7475476   2025-04-24 23:50:49\n",
       "7475477   2025-04-24 23:02:52\n",
       "7475462   2025-04-24 22:50:00\n",
       "7475437   2025-04-24 21:32:00\n",
       "7475438   2025-04-24 21:30:00\n",
       "7475423   2025-04-24 20:43:00\n",
       "7475420   2025-04-24 20:14:00\n",
       "7475406   2025-04-24 20:07:00\n",
       "7475404   2025-04-24 19:47:00\n",
       "Name: datetime, dtype: datetime64[ns]"
      ]
     },
     "execution_count": 15,
     "metadata": {},
     "output_type": "execute_result"
    }
   ],
   "source": [
    "data['datetime'].head(10)"
   ]
  },
  {
   "cell_type": "code",
   "execution_count": 16,
   "id": "cc149cb0-f51e-48e5-ac82-1e1bb6ff543a",
   "metadata": {},
   "outputs": [
    {
     "data": {
      "text/plain": [
       "id\n",
       "7475478    2025-04-25\n",
       "7475476    2025-04-24\n",
       "7475477    2025-04-24\n",
       "7475462    2025-04-24\n",
       "7475437    2025-04-24\n",
       "              ...    \n",
       "7474751    2025-04-23\n",
       "7475196    2025-04-23\n",
       "7474721    2025-04-23\n",
       "7474722    2025-04-23\n",
       "7474713    2025-04-23\n",
       "Name: date, Length: 100, dtype: object"
      ]
     },
     "execution_count": 16,
     "metadata": {},
     "output_type": "execute_result"
    }
   ],
   "source": [
    "data['date']=data['datetime'].dt.date\n",
    "data['date']"
   ]
  },
  {
   "cell_type": "code",
   "execution_count": 17,
   "id": "83e84b78-273f-4d3f-8fb3-e958f64e84c6",
   "metadata": {},
   "outputs": [
    {
     "data": {
      "text/html": [
       "<div>\n",
       "<style scoped>\n",
       "    .dataframe tbody tr th:only-of-type {\n",
       "        vertical-align: middle;\n",
       "    }\n",
       "\n",
       "    .dataframe tbody tr th {\n",
       "        vertical-align: top;\n",
       "    }\n",
       "\n",
       "    .dataframe thead th {\n",
       "        text-align: right;\n",
       "    }\n",
       "</style>\n",
       "<table border=\"1\" class=\"dataframe\">\n",
       "  <thead>\n",
       "    <tr style=\"text-align: right;\">\n",
       "      <th></th>\n",
       "      <th>index</th>\n",
       "      <th>category</th>\n",
       "      <th>datetime</th>\n",
       "      <th>headline</th>\n",
       "      <th>image</th>\n",
       "      <th>source</th>\n",
       "      <th>summary</th>\n",
       "      <th>url</th>\n",
       "      <th>date</th>\n",
       "    </tr>\n",
       "    <tr>\n",
       "      <th>id</th>\n",
       "      <th></th>\n",
       "      <th></th>\n",
       "      <th></th>\n",
       "      <th></th>\n",
       "      <th></th>\n",
       "      <th></th>\n",
       "      <th></th>\n",
       "      <th></th>\n",
       "      <th></th>\n",
       "    </tr>\n",
       "  </thead>\n",
       "  <tbody>\n",
       "    <tr>\n",
       "      <th>7475478</th>\n",
       "      <td>0</td>\n",
       "      <td>top news</td>\n",
       "      <td>2025-04-25 00:01:00</td>\n",
       "      <td>Alphabet’s blowout earnings may mark the peak ...</td>\n",
       "      <td>https://static2.finnhub.io/file/publicdatany/f...</td>\n",
       "      <td>MarketWatch</td>\n",
       "      <td>Google’s cloud business has big opportunity ah...</td>\n",
       "      <td>https://www.marketwatch.com/story/alphabets-bl...</td>\n",
       "      <td>2025-04-25</td>\n",
       "    </tr>\n",
       "    <tr>\n",
       "      <th>7475476</th>\n",
       "      <td>1</td>\n",
       "      <td>top news</td>\n",
       "      <td>2025-04-24 23:50:49</td>\n",
       "      <td>Alphabet expects 'slight headwind' to ads busi...</td>\n",
       "      <td>https://image.cnbcfm.com/api/v1/image/10813640...</td>\n",
       "      <td>CNBC</td>\n",
       "      <td>The comments come as Alphabet and other tech c...</td>\n",
       "      <td>https://www.cnbc.com/2025/04/24/alphabet-expec...</td>\n",
       "      <td>2025-04-24</td>\n",
       "    </tr>\n",
       "  </tbody>\n",
       "</table>\n",
       "</div>"
      ],
      "text/plain": [
       "         index  category            datetime  \\\n",
       "id                                             \n",
       "7475478      0  top news 2025-04-25 00:01:00   \n",
       "7475476      1  top news 2025-04-24 23:50:49   \n",
       "\n",
       "                                                  headline  \\\n",
       "id                                                           \n",
       "7475478  Alphabet’s blowout earnings may mark the peak ...   \n",
       "7475476  Alphabet expects 'slight headwind' to ads busi...   \n",
       "\n",
       "                                                     image       source  \\\n",
       "id                                                                        \n",
       "7475478  https://static2.finnhub.io/file/publicdatany/f...  MarketWatch   \n",
       "7475476  https://image.cnbcfm.com/api/v1/image/10813640...         CNBC   \n",
       "\n",
       "                                                   summary  \\\n",
       "id                                                           \n",
       "7475478  Google’s cloud business has big opportunity ah...   \n",
       "7475476  The comments come as Alphabet and other tech c...   \n",
       "\n",
       "                                                       url        date  \n",
       "id                                                                      \n",
       "7475478  https://www.marketwatch.com/story/alphabets-bl...  2025-04-25  \n",
       "7475476  https://www.cnbc.com/2025/04/24/alphabet-expec...  2025-04-24  "
      ]
     },
     "execution_count": 17,
     "metadata": {},
     "output_type": "execute_result"
    }
   ],
   "source": [
    "data.head(2)"
   ]
  },
  {
   "cell_type": "code",
   "execution_count": 18,
   "id": "89f3d223-be21-4644-8a5e-66e1eb048a17",
   "metadata": {},
   "outputs": [],
   "source": [
    "data.to_csv(r'C:\\Users\\Hi\\Finlang\\data\\api\\processed_data.csv')"
   ]
  },
  {
   "cell_type": "code",
   "execution_count": 19,
   "id": "46ce1c50-efd1-40ea-afc4-aa781914a6fd",
   "metadata": {},
   "outputs": [],
   "source": [
    "news_count=data.groupby('date').size()"
   ]
  },
  {
   "cell_type": "code",
   "execution_count": 20,
   "id": "9b71593b-3f47-4309-98a4-b9b68ac10c09",
   "metadata": {},
   "outputs": [
    {
     "data": {
      "text/plain": [
       "date\n",
       "2025-04-23    50\n",
       "2025-04-24    49\n",
       "2025-04-25     1\n",
       "dtype: int64"
      ]
     },
     "execution_count": 20,
     "metadata": {},
     "output_type": "execute_result"
    }
   ],
   "source": [
    "news_count"
   ]
  },
  {
   "cell_type": "code",
   "execution_count": 21,
   "id": "d494a929-1a53-4d63-9b5c-ca0ad754994a",
   "metadata": {},
   "outputs": [
    {
     "data": {
      "text/plain": [
       "<Axes: xlabel='date'>"
      ]
     },
     "execution_count": 21,
     "metadata": {},
     "output_type": "execute_result"
    },
    {
     "data": {
      "image/png": "[encoded data removed]",
      "text/plain": [
       "<Figure size 640x480 with 1 Axes>"
      ]
     },
     "metadata": {},
     "output_type": "display_data"
    }
   ],
   "source": [
    "news_count.plot()"
   ]
  },
  {
   "cell_type": "code",
   "execution_count": 22,
   "id": "40eaa030-ff51-4ff1-896e-996c2bfcc9e7",
   "metadata": {
    "scrolled": true
   },
   "outputs": [
    {
     "data": {
      "image/png": "[encoded data removed]",
      "text/plain": [
       "<Figure size 1200x700 with 1 Axes>"
      ]
     },
     "metadata": {},
     "output_type": "display_data"
    }
   ],
   "source": [
    "plt.figure(figsize=(12,7))\n",
    "news_count.plot(kind='line' ,marker='o',)\n",
    "plt.xlabel('date')\n",
    "plt.ylabel('news_count')\n",
    "plt.title('News_count with Date')\n",
    "plt.grid()\n",
    "plt.show()"
   ]
  },
  {
   "cell_type": "code",
   "execution_count": 23,
   "id": "d8647652-3b0f-426a-b006-883ba1835123",
   "metadata": {},
   "outputs": [
    {
     "data": {
      "text/plain": [
       "index                int64\n",
       "category            object\n",
       "datetime    datetime64[ns]\n",
       "headline            object\n",
       "image               object\n",
       "source              object\n",
       "summary             object\n",
       "url                 object\n",
       "date                object\n",
       "dtype: object"
      ]
     },
     "execution_count": 23,
     "metadata": {},
     "output_type": "execute_result"
    }
   ],
   "source": [
    "data.dtypes"
   ]
  },
  {
   "cell_type": "code",
   "execution_count": null,
   "id": "e78bad49-5fa2-4ea9-83ee-7ac37fe69015",
   "metadata": {},
   "outputs": [],
   "source": [
    "\n"
   ]
  },
  {
   "cell_type": "code",
   "execution_count": null,
   "id": "05f6ff69-bfcc-40f1-b787-75b12f3ce777",
   "metadata": {},
   "outputs": [],
   "source": []
  }
 ],
 "metadata": {
  "kernelspec": {
   "display_name": "Python 3 (ipykernel)",
   "language": "python",
   "name": "python3"
  },
  "language_info": {
   "codemirror_mode": {
    "name": "ipython",
    "version": 3
   },
   "file_extension": ".py",
   "mimetype": "text/x-python",
   "name": "python",
   "nbconvert_exporter": "python",
   "pygments_lexer": "ipython3",
   "version": "3.12.4"
  }
 },
 "nbformat": 4,
 "nbformat_minor": 5
}
