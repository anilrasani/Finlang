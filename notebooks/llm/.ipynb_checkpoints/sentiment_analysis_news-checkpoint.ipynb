{
 "cells": [
  {
   "cell_type": "code",
   "execution_count": 1,
   "id": "67a0b908-728f-427d-8958-b1619f2ad1d6",
   "metadata": {},
   "outputs": [
    {
     "name": "stderr",
     "output_type": "stream",
     "text": [
      "[nltk_data] Downloading package vader_lexicon to\n",
      "[nltk_data]     C:\\Users\\Hi\\AppData\\Roaming\\nltk_data...\n",
      "[nltk_data]   Package vader_lexicon is already up-to-date!\n"
     ]
    },
    {
     "data": {
      "text/plain": [
       "True"
      ]
     },
     "execution_count": 1,
     "metadata": {},
     "output_type": "execute_result"
    }
   ],
   "source": [
    "import pandas as pd\n",
    "import matplotlib.pyplot as plt\n",
    "import seaborn as sns\n",
    "import nltk\n",
    "nltk.download('vader_lexicon')"
   ]
  },
  {
   "cell_type": "code",
   "execution_count": 2,
   "id": "db86284b-368c-49cf-b167-56975b9adb37",
   "metadata": {},
   "outputs": [],
   "source": [
    "from nltk.sentiment.vader import SentimentIntensityAnalyzer as sid"
   ]
  },
  {
   "cell_type": "code",
   "execution_count": 3,
   "id": "5480e25c-9e04-4473-b757-6b13d119aa06",
   "metadata": {},
   "outputs": [],
   "source": [
    "sid =sid()"
   ]
  },
  {
   "cell_type": "code",
   "execution_count": 4,
   "id": "ffc25cdb-ff7e-469d-b820-83018ed9815e",
   "metadata": {},
   "outputs": [],
   "source": [
    "data=pd.read_csv(r'C:\\Users\\Hi\\Finlang\\data\\api\\processed_data.csv')"
   ]
  },
  {
   "cell_type": "code",
   "execution_count": 5,
   "id": "b08aaeb8-6ee5-4921-83d6-43aff2aa1648",
   "metadata": {},
   "outputs": [
    {
     "ename": "NameError",
     "evalue": "name 'data' is not defined",
     "output_type": "error",
     "traceback": [
      "\u001b[1;31m---------------------------------------------------------------------------\u001b[0m",
      "\u001b[1;31mNameError\u001b[0m                                 Traceback (most recent call last)",
      "Cell \u001b[1;32mIn[5], line 1\u001b[0m\n\u001b[1;32m----> 1\u001b[0m data\u001b[38;5;241m.\u001b[39mhead(\u001b[38;5;241m2\u001b[39m)\n",
      "\u001b[1;31mNameError\u001b[0m: name 'data' is not defined"
     ]
    }
   ],
   "source": [
    "data.head(2)"
   ]
  },
  {
   "cell_type": "code",
   "execution_count": null,
   "id": "c4c7c3be-5e1a-4c45-aef3-48f427123228",
   "metadata": {},
   "outputs": [],
   "source": [
    "data.set_index('id',inplace=True)"
   ]
  },
  {
   "cell_type": "code",
   "execution_count": null,
   "id": "92913820-d3d6-4e9e-ad98-4f878b31ba62",
   "metadata": {},
   "outputs": [],
   "source": [
    "data['sentiment_score']=data['headline'].apply(lambda x: sid.polarity_scores (str(x))['compound'])"
   ]
  },
  {
   "cell_type": "code",
   "execution_count": null,
   "id": "39f5405d-3a2d-4662-8e34-29188a573e0f",
   "metadata": {},
   "outputs": [],
   "source": [
    "data.head(2)"
   ]
  },
  {
   "cell_type": "code",
   "execution_count": null,
   "id": "cc657262-f9ff-4c32-81b0-04c1f1c75452",
   "metadata": {},
   "outputs": [],
   "source": [
    "def sa_scores(score):\n",
    "    if score >0:\n",
    "        return 'Positive'\n",
    "    elif score <0 :\n",
    "        return 'Negative'\n",
    "    else :\n",
    "        return 'Neutral'\n",
    "data['sentiment_label']=data['sentiment_score'].apply(sa_scores)\n"
   ]
  },
  {
   "cell_type": "code",
   "execution_count": null,
   "id": "b58c97b4-66a4-42c8-8004-74685ba0f90c",
   "metadata": {},
   "outputs": [],
   "source": [
    "data=pd.read_csv(r'C:\\Users\\Hi\\Finlang\\data\\api\\processed_data.csv')"
   ]
  },
  {
   "cell_type": "code",
   "execution_count": 17,
   "id": "dbcaa1a1-5874-46e0-8e97-c81169bdf478",
   "metadata": {},
   "outputs": [
    {
     "data": {
      "text/plain": [
       "id\n",
       "7475192    Goldman’s chief economist says the dollar has ...\n",
       "7475112    ‘The closest store is 40 miles away’—‘Ransom C...\n",
       "Name: headline, dtype: object"
      ]
     },
     "execution_count": 17,
     "metadata": {},
     "output_type": "execute_result"
    }
   ],
   "source": [
    "data.loc[data['sentiment_label']=='Neutral' ,'headline'].head(2)"
   ]
  },
  {
   "cell_type": "code",
   "execution_count": 18,
   "id": "c3e0075c-b0df-4303-84bb-a9defdbfbcc5",
   "metadata": {},
   "outputs": [
    {
     "data": {
      "text/html": [
       "<div>\n",
       "<style scoped>\n",
       "    .dataframe tbody tr th:only-of-type {\n",
       "        vertical-align: middle;\n",
       "    }\n",
       "\n",
       "    .dataframe tbody tr th {\n",
       "        vertical-align: top;\n",
       "    }\n",
       "\n",
       "    .dataframe thead th {\n",
       "        text-align: right;\n",
       "    }\n",
       "</style>\n",
       "<table border=\"1\" class=\"dataframe\">\n",
       "  <thead>\n",
       "    <tr style=\"text-align: right;\">\n",
       "      <th></th>\n",
       "      <th>index</th>\n",
       "      <th>category</th>\n",
       "      <th>datetime</th>\n",
       "      <th>headline</th>\n",
       "      <th>image</th>\n",
       "      <th>source</th>\n",
       "      <th>summary</th>\n",
       "      <th>url</th>\n",
       "      <th>date</th>\n",
       "      <th>sentiment_score</th>\n",
       "      <th>sentiment_label</th>\n",
       "    </tr>\n",
       "    <tr>\n",
       "      <th>id</th>\n",
       "      <th></th>\n",
       "      <th></th>\n",
       "      <th></th>\n",
       "      <th></th>\n",
       "      <th></th>\n",
       "      <th></th>\n",
       "      <th></th>\n",
       "      <th></th>\n",
       "      <th></th>\n",
       "      <th></th>\n",
       "      <th></th>\n",
       "    </tr>\n",
       "  </thead>\n",
       "  <tbody>\n",
       "    <tr>\n",
       "      <th>7475231</th>\n",
       "      <td>0</td>\n",
       "      <td>top news</td>\n",
       "      <td>2025-04-24 12:21:00</td>\n",
       "      <td>If mortgage and credit rates rise, these secto...</td>\n",
       "      <td>https://static2.finnhub.io/file/publicdatany/f...</td>\n",
       "      <td>MarketWatch</td>\n",
       "      <td>Higher borrowing costs pressure the financial,...</td>\n",
       "      <td>https://www.marketwatch.com/story/if-mortgage-...</td>\n",
       "      <td>2025-04-24</td>\n",
       "      <td>0.3818</td>\n",
       "      <td>Positive</td>\n",
       "    </tr>\n",
       "    <tr>\n",
       "      <th>7475225</th>\n",
       "      <td>2</td>\n",
       "      <td>top news</td>\n",
       "      <td>2025-04-24 11:55:00</td>\n",
       "      <td>This proven growth-stock pro isn’t giving up o...</td>\n",
       "      <td>https://static2.finnhub.io/file/publicdatany/f...</td>\n",
       "      <td>MarketWatch</td>\n",
       "      <td>Louis Navellier: “I’m expecting up to four Fed...</td>\n",
       "      <td>https://www.marketwatch.com/story/this-proven-...</td>\n",
       "      <td>2025-04-24</td>\n",
       "      <td>0.3400</td>\n",
       "      <td>Positive</td>\n",
       "    </tr>\n",
       "  </tbody>\n",
       "</table>\n",
       "</div>"
      ],
      "text/plain": [
       "         index  category             datetime  \\\n",
       "id                                              \n",
       "7475231      0  top news  2025-04-24 12:21:00   \n",
       "7475225      2  top news  2025-04-24 11:55:00   \n",
       "\n",
       "                                                  headline  \\\n",
       "id                                                           \n",
       "7475231  If mortgage and credit rates rise, these secto...   \n",
       "7475225  This proven growth-stock pro isn’t giving up o...   \n",
       "\n",
       "                                                     image       source  \\\n",
       "id                                                                        \n",
       "7475231  https://static2.finnhub.io/file/publicdatany/f...  MarketWatch   \n",
       "7475225  https://static2.finnhub.io/file/publicdatany/f...  MarketWatch   \n",
       "\n",
       "                                                   summary  \\\n",
       "id                                                           \n",
       "7475231  Higher borrowing costs pressure the financial,...   \n",
       "7475225  Louis Navellier: “I’m expecting up to four Fed...   \n",
       "\n",
       "                                                       url        date  \\\n",
       "id                                                                       \n",
       "7475231  https://www.marketwatch.com/story/if-mortgage-...  2025-04-24   \n",
       "7475225  https://www.marketwatch.com/story/this-proven-...  2025-04-24   \n",
       "\n",
       "         sentiment_score sentiment_label  \n",
       "id                                        \n",
       "7475231           0.3818        Positive  \n",
       "7475225           0.3400        Positive  "
      ]
     },
     "execution_count": 18,
     "metadata": {},
     "output_type": "execute_result"
    }
   ],
   "source": [
    "data.loc[data['sentiment_score'] >0].head(2)"
   ]
  },
  {
   "cell_type": "code",
   "execution_count": 19,
   "id": "89526a61-5fa1-4df6-b541-1b604abd113e",
   "metadata": {},
   "outputs": [
    {
     "data": {
      "text/html": [
       "<div>\n",
       "<style scoped>\n",
       "    .dataframe tbody tr th:only-of-type {\n",
       "        vertical-align: middle;\n",
       "    }\n",
       "\n",
       "    .dataframe tbody tr th {\n",
       "        vertical-align: top;\n",
       "    }\n",
       "\n",
       "    .dataframe thead th {\n",
       "        text-align: right;\n",
       "    }\n",
       "</style>\n",
       "<table border=\"1\" class=\"dataframe\">\n",
       "  <thead>\n",
       "    <tr style=\"text-align: right;\">\n",
       "      <th></th>\n",
       "      <th>index</th>\n",
       "      <th>category</th>\n",
       "      <th>datetime</th>\n",
       "      <th>headline</th>\n",
       "      <th>image</th>\n",
       "      <th>source</th>\n",
       "      <th>summary</th>\n",
       "      <th>url</th>\n",
       "      <th>date</th>\n",
       "      <th>sentiment_score</th>\n",
       "      <th>sentiment_label</th>\n",
       "    </tr>\n",
       "    <tr>\n",
       "      <th>id</th>\n",
       "      <th></th>\n",
       "      <th></th>\n",
       "      <th></th>\n",
       "      <th></th>\n",
       "      <th></th>\n",
       "      <th></th>\n",
       "      <th></th>\n",
       "      <th></th>\n",
       "      <th></th>\n",
       "      <th></th>\n",
       "      <th></th>\n",
       "    </tr>\n",
       "  </thead>\n",
       "  <tbody>\n",
       "    <tr>\n",
       "      <th>7475229</th>\n",
       "      <td>1</td>\n",
       "      <td>top news</td>\n",
       "      <td>2025-04-24 12:04:00</td>\n",
       "      <td>American Airlines pulls its 2025 outlook. The ...</td>\n",
       "      <td>https://static2.finnhub.io/file/publicdatany/f...</td>\n",
       "      <td>MarketWatch</td>\n",
       "      <td>American’s quarterly results beat forecasts bu...</td>\n",
       "      <td>https://www.marketwatch.com/story/american-air...</td>\n",
       "      <td>2025-04-24</td>\n",
       "      <td>-0.2960</td>\n",
       "      <td>Negative</td>\n",
       "    </tr>\n",
       "    <tr>\n",
       "      <th>7475226</th>\n",
       "      <td>3</td>\n",
       "      <td>top news</td>\n",
       "      <td>2025-04-24 11:53:00</td>\n",
       "      <td>Hasbro’s stock rallies as it grows profit marg...</td>\n",
       "      <td>https://static2.finnhub.io/file/publicdatany/f...</td>\n",
       "      <td>MarketWatch</td>\n",
       "      <td>Toy company’s first-quarter results wow Wall S...</td>\n",
       "      <td>https://www.marketwatch.com/story/hasbros-stoc...</td>\n",
       "      <td>2025-04-24</td>\n",
       "      <td>-0.1779</td>\n",
       "      <td>Negative</td>\n",
       "    </tr>\n",
       "  </tbody>\n",
       "</table>\n",
       "</div>"
      ],
      "text/plain": [
       "         index  category             datetime  \\\n",
       "id                                              \n",
       "7475229      1  top news  2025-04-24 12:04:00   \n",
       "7475226      3  top news  2025-04-24 11:53:00   \n",
       "\n",
       "                                                  headline  \\\n",
       "id                                                           \n",
       "7475229  American Airlines pulls its 2025 outlook. The ...   \n",
       "7475226  Hasbro’s stock rallies as it grows profit marg...   \n",
       "\n",
       "                                                     image       source  \\\n",
       "id                                                                        \n",
       "7475229  https://static2.finnhub.io/file/publicdatany/f...  MarketWatch   \n",
       "7475226  https://static2.finnhub.io/file/publicdatany/f...  MarketWatch   \n",
       "\n",
       "                                                   summary  \\\n",
       "id                                                           \n",
       "7475229  American’s quarterly results beat forecasts bu...   \n",
       "7475226  Toy company’s first-quarter results wow Wall S...   \n",
       "\n",
       "                                                       url        date  \\\n",
       "id                                                                       \n",
       "7475229  https://www.marketwatch.com/story/american-air...  2025-04-24   \n",
       "7475226  https://www.marketwatch.com/story/hasbros-stoc...  2025-04-24   \n",
       "\n",
       "         sentiment_score sentiment_label  \n",
       "id                                        \n",
       "7475229          -0.2960        Negative  \n",
       "7475226          -0.1779        Negative  "
      ]
     },
     "execution_count": 19,
     "metadata": {},
     "output_type": "execute_result"
    }
   ],
   "source": [
    "data.loc[data['sentiment_score']<0].head(2)"
   ]
  },
  {
   "cell_type": "code",
   "execution_count": 20,
   "id": "4e1e6bf5-62de-410f-9853-f0c6b227fe70",
   "metadata": {},
   "outputs": [
    {
     "data": {
      "image/png": "[encoded data removed]",
      "text/plain": [
       "<Figure size 640x480 with 1 Axes>"
      ]
     },
     "metadata": {},
     "output_type": "display_data"
    }
   ],
   "source": [
    "data['sentiment_label'].value_counts().plot(kind=\"bar\",color=['red','green','blue'])\n",
    "plt.xlabel('Sentitment Type')\n",
    "plt.ylabel('No.of Headlines')\n",
    "plt.title('Sentiment of News Headlines')\n",
    "plt.grid(True)\n",
    "plt.show()"
   ]
  },
  {
   "cell_type": "code",
   "execution_count": null,
   "id": "59b0311a-1b73-421b-bc30-f6bca3840760",
   "metadata": {},
   "outputs": [],
   "source": []
  },
  {
   "cell_type": "code",
   "execution_count": null,
   "id": "37e2e499-3aa8-494b-b340-802876bb3623",
   "metadata": {},
   "outputs": [],
   "source": []
  },
  {
   "cell_type": "code",
   "execution_count": null,
   "id": "7fd895c9-f63b-4cc2-addc-ff513620b805",
   "metadata": {},
   "outputs": [],
   "source": []
  }
 ],
 "metadata": {
  "kernelspec": {
   "display_name": "Python 3 (ipykernel)",
   "language": "python",
   "name": "python3"
  },
  "language_info": {
   "codemirror_mode": {
    "name": "ipython",
    "version": 3
   },
   "file_extension": ".py",
   "mimetype": "text/x-python",
   "name": "python",
   "nbconvert_exporter": "python",
   "pygments_lexer": "ipython3",
   "version": "3.12.4"
  }
 },
 "nbformat": 4,
 "nbformat_minor": 5
}
