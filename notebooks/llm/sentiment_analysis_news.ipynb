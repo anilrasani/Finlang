{
 "cells": [
  {
   "cell_type": "code",
   "execution_count": 1,
   "id": "67a0b908-728f-427d-8958-b1619f2ad1d6",
   "metadata": {},
   "outputs": [
    {
     "name": "stderr",
     "output_type": "stream",
     "text": [
      "[nltk_data] Downloading package vader_lexicon to\n",
      "[nltk_data]     C:\\Users\\Hi\\AppData\\Roaming\\nltk_data...\n",
      "[nltk_data]   Package vader_lexicon is already up-to-date!\n"
     ]
    },
    {
     "data": {
      "text/plain": [
       "True"
      ]
     },
     "execution_count": 1,
     "metadata": {},
     "output_type": "execute_result"
    }
   ],
   "source": [
    "import pandas as pd\n",
    "import matplotlib.pyplot as plt\n",
    "import seaborn as sns\n",
    "import nltk\n",
    "nltk.download('vader_lexicon')"
   ]
  },
  {
   "cell_type": "code",
   "execution_count": 2,
   "id": "db86284b-368c-49cf-b167-56975b9adb37",
   "metadata": {},
   "outputs": [],
   "source": [
    "from nltk.sentiment.vader import SentimentIntensityAnalyzer as sid"
   ]
  },
  {
   "cell_type": "code",
   "execution_count": 3,
   "id": "5480e25c-9e04-4473-b757-6b13d119aa06",
   "metadata": {},
   "outputs": [],
   "source": [
    "sid =sid()"
   ]
  },
  {
   "cell_type": "code",
   "execution_count": 6,
   "id": "ffc25cdb-ff7e-469d-b820-83018ed9815e",
   "metadata": {},
   "outputs": [],
   "source": [
    "data=pd.read_csv(r'C:\\Users\\Hi\\Finlang\\data\\api\\processed_data.csv')"
   ]
  },
  {
   "cell_type": "code",
   "execution_count": 7,
   "id": "b08aaeb8-6ee5-4921-83d6-43aff2aa1648",
   "metadata": {},
   "outputs": [
    {
     "data": {
      "text/html": [
       "<div>\n",
       "<style scoped>\n",
       "    .dataframe tbody tr th:only-of-type {\n",
       "        vertical-align: middle;\n",
       "    }\n",
       "\n",
       "    .dataframe tbody tr th {\n",
       "        vertical-align: top;\n",
       "    }\n",
       "\n",
       "    .dataframe thead th {\n",
       "        text-align: right;\n",
       "    }\n",
       "</style>\n",
       "<table border=\"1\" class=\"dataframe\">\n",
       "  <thead>\n",
       "    <tr style=\"text-align: right;\">\n",
       "      <th></th>\n",
       "      <th>id</th>\n",
       "      <th>index</th>\n",
       "      <th>category</th>\n",
       "      <th>datetime</th>\n",
       "      <th>headline</th>\n",
       "      <th>image</th>\n",
       "      <th>source</th>\n",
       "      <th>summary</th>\n",
       "      <th>url</th>\n",
       "      <th>date</th>\n",
       "    </tr>\n",
       "  </thead>\n",
       "  <tbody>\n",
       "    <tr>\n",
       "      <th>0</th>\n",
       "      <td>7475478</td>\n",
       "      <td>0</td>\n",
       "      <td>top news</td>\n",
       "      <td>2025-04-25 00:01:00</td>\n",
       "      <td>Alphabet’s blowout earnings may mark the peak ...</td>\n",
       "      <td>https://static2.finnhub.io/file/publicdatany/f...</td>\n",
       "      <td>MarketWatch</td>\n",
       "      <td>Google’s cloud business has big opportunity ah...</td>\n",
       "      <td>https://www.marketwatch.com/story/alphabets-bl...</td>\n",
       "      <td>2025-04-25</td>\n",
       "    </tr>\n",
       "    <tr>\n",
       "      <th>1</th>\n",
       "      <td>7475476</td>\n",
       "      <td>1</td>\n",
       "      <td>top news</td>\n",
       "      <td>2025-04-24 23:50:49</td>\n",
       "      <td>Alphabet expects 'slight headwind' to ads busi...</td>\n",
       "      <td>https://image.cnbcfm.com/api/v1/image/10813640...</td>\n",
       "      <td>CNBC</td>\n",
       "      <td>The comments come as Alphabet and other tech c...</td>\n",
       "      <td>https://www.cnbc.com/2025/04/24/alphabet-expec...</td>\n",
       "      <td>2025-04-24</td>\n",
       "    </tr>\n",
       "  </tbody>\n",
       "</table>\n",
       "</div>"
      ],
      "text/plain": [
       "        id  index  category             datetime  \\\n",
       "0  7475478      0  top news  2025-04-25 00:01:00   \n",
       "1  7475476      1  top news  2025-04-24 23:50:49   \n",
       "\n",
       "                                            headline  \\\n",
       "0  Alphabet’s blowout earnings may mark the peak ...   \n",
       "1  Alphabet expects 'slight headwind' to ads busi...   \n",
       "\n",
       "                                               image       source  \\\n",
       "0  https://static2.finnhub.io/file/publicdatany/f...  MarketWatch   \n",
       "1  https://image.cnbcfm.com/api/v1/image/10813640...         CNBC   \n",
       "\n",
       "                                             summary  \\\n",
       "0  Google’s cloud business has big opportunity ah...   \n",
       "1  The comments come as Alphabet and other tech c...   \n",
       "\n",
       "                                                 url        date  \n",
       "0  https://www.marketwatch.com/story/alphabets-bl...  2025-04-25  \n",
       "1  https://www.cnbc.com/2025/04/24/alphabet-expec...  2025-04-24  "
      ]
     },
     "execution_count": 7,
     "metadata": {},
     "output_type": "execute_result"
    }
   ],
   "source": [
    "data.head(2)"
   ]
  },
  {
   "cell_type": "code",
   "execution_count": 15,
   "id": "c4c7c3be-5e1a-4c45-aef3-48f427123228",
   "metadata": {},
   "outputs": [],
   "source": [
    "data.set_index('id',inplace=True)"
   ]
  },
  {
   "cell_type": "code",
   "execution_count": 16,
   "id": "92913820-d3d6-4e9e-ad98-4f878b31ba62",
   "metadata": {},
   "outputs": [],
   "source": [
    "data['sentiment_score']=data['headline'].apply(lambda x: sid.polarity_scores (str(x))['compound'])"
   ]
  },
  {
   "cell_type": "code",
   "execution_count": 17,
   "id": "39f5405d-3a2d-4662-8e34-29188a573e0f",
   "metadata": {},
   "outputs": [
    {
     "data": {
      "text/html": [
       "<div>\n",
       "<style scoped>\n",
       "    .dataframe tbody tr th:only-of-type {\n",
       "        vertical-align: middle;\n",
       "    }\n",
       "\n",
       "    .dataframe tbody tr th {\n",
       "        vertical-align: top;\n",
       "    }\n",
       "\n",
       "    .dataframe thead th {\n",
       "        text-align: right;\n",
       "    }\n",
       "</style>\n",
       "<table border=\"1\" class=\"dataframe\">\n",
       "  <thead>\n",
       "    <tr style=\"text-align: right;\">\n",
       "      <th></th>\n",
       "      <th>index</th>\n",
       "      <th>category</th>\n",
       "      <th>datetime</th>\n",
       "      <th>headline</th>\n",
       "      <th>image</th>\n",
       "      <th>source</th>\n",
       "      <th>summary</th>\n",
       "      <th>url</th>\n",
       "      <th>date</th>\n",
       "      <th>sentiment_score</th>\n",
       "    </tr>\n",
       "    <tr>\n",
       "      <th>id</th>\n",
       "      <th></th>\n",
       "      <th></th>\n",
       "      <th></th>\n",
       "      <th></th>\n",
       "      <th></th>\n",
       "      <th></th>\n",
       "      <th></th>\n",
       "      <th></th>\n",
       "      <th></th>\n",
       "      <th></th>\n",
       "    </tr>\n",
       "  </thead>\n",
       "  <tbody>\n",
       "    <tr>\n",
       "      <th>7475478</th>\n",
       "      <td>0</td>\n",
       "      <td>top news</td>\n",
       "      <td>2025-04-25 00:01:00</td>\n",
       "      <td>Alphabet’s blowout earnings may mark the peak ...</td>\n",
       "      <td>https://static2.finnhub.io/file/publicdatany/f...</td>\n",
       "      <td>MarketWatch</td>\n",
       "      <td>Google’s cloud business has big opportunity ah...</td>\n",
       "      <td>https://www.marketwatch.com/story/alphabets-bl...</td>\n",
       "      <td>2025-04-25</td>\n",
       "      <td>0.5927</td>\n",
       "    </tr>\n",
       "    <tr>\n",
       "      <th>7475476</th>\n",
       "      <td>1</td>\n",
       "      <td>top news</td>\n",
       "      <td>2025-04-24 23:50:49</td>\n",
       "      <td>Alphabet expects 'slight headwind' to ads busi...</td>\n",
       "      <td>https://image.cnbcfm.com/api/v1/image/10813640...</td>\n",
       "      <td>CNBC</td>\n",
       "      <td>The comments come as Alphabet and other tech c...</td>\n",
       "      <td>https://www.cnbc.com/2025/04/24/alphabet-expec...</td>\n",
       "      <td>2025-04-24</td>\n",
       "      <td>0.0000</td>\n",
       "    </tr>\n",
       "  </tbody>\n",
       "</table>\n",
       "</div>"
      ],
      "text/plain": [
       "         index  category             datetime  \\\n",
       "id                                              \n",
       "7475478      0  top news  2025-04-25 00:01:00   \n",
       "7475476      1  top news  2025-04-24 23:50:49   \n",
       "\n",
       "                                                  headline  \\\n",
       "id                                                           \n",
       "7475478  Alphabet’s blowout earnings may mark the peak ...   \n",
       "7475476  Alphabet expects 'slight headwind' to ads busi...   \n",
       "\n",
       "                                                     image       source  \\\n",
       "id                                                                        \n",
       "7475478  https://static2.finnhub.io/file/publicdatany/f...  MarketWatch   \n",
       "7475476  https://image.cnbcfm.com/api/v1/image/10813640...         CNBC   \n",
       "\n",
       "                                                   summary  \\\n",
       "id                                                           \n",
       "7475478  Google’s cloud business has big opportunity ah...   \n",
       "7475476  The comments come as Alphabet and other tech c...   \n",
       "\n",
       "                                                       url        date  \\\n",
       "id                                                                       \n",
       "7475478  https://www.marketwatch.com/story/alphabets-bl...  2025-04-25   \n",
       "7475476  https://www.cnbc.com/2025/04/24/alphabet-expec...  2025-04-24   \n",
       "\n",
       "         sentiment_score  \n",
       "id                        \n",
       "7475478           0.5927  \n",
       "7475476           0.0000  "
      ]
     },
     "execution_count": 17,
     "metadata": {},
     "output_type": "execute_result"
    }
   ],
   "source": [
    "data.head(2)"
   ]
  },
  {
   "cell_type": "code",
   "execution_count": 18,
   "id": "cc657262-f9ff-4c32-81b0-04c1f1c75452",
   "metadata": {},
   "outputs": [],
   "source": [
    "def sa_scores(score):\n",
    "    if score >0:\n",
    "        return 'Positive'\n",
    "    elif score <0 :\n",
    "        return 'Negative'\n",
    "    else :\n",
    "        return 'Neutral'\n",
    "data['sentiment_label']=data['sentiment_score'].apply(sa_scores)\n"
   ]
  },
  {
   "cell_type": "code",
   "execution_count": 24,
   "id": "b58c97b4-66a4-42c8-8004-74685ba0f90c",
   "metadata": {},
   "outputs": [],
   "source": [
    "data.to_csv(r'C:\\Users\\Hi\\Finlang\\data\\api\\processed_data.csv')"
   ]
  },
  {
   "cell_type": "code",
   "execution_count": 25,
   "id": "dbcaa1a1-5874-46e0-8e97-c81169bdf478",
   "metadata": {},
   "outputs": [
    {
     "data": {
      "text/plain": [
       "id\n",
       "7475476    Alphabet expects 'slight headwind' to ads busi...\n",
       "7475438    Skechers says it can’t predict trade-war impac...\n",
       "Name: headline, dtype: object"
      ]
     },
     "execution_count": 25,
     "metadata": {},
     "output_type": "execute_result"
    }
   ],
   "source": [
    "data.loc[data['sentiment_label']=='Neutral' ,'headline'].head(2)"
   ]
  },
  {
   "cell_type": "code",
   "execution_count": 26,
   "id": "c3e0075c-b0df-4303-84bb-a9defdbfbcc5",
   "metadata": {},
   "outputs": [
    {
     "data": {
      "text/html": [
       "<div>\n",
       "<style scoped>\n",
       "    .dataframe tbody tr th:only-of-type {\n",
       "        vertical-align: middle;\n",
       "    }\n",
       "\n",
       "    .dataframe tbody tr th {\n",
       "        vertical-align: top;\n",
       "    }\n",
       "\n",
       "    .dataframe thead th {\n",
       "        text-align: right;\n",
       "    }\n",
       "</style>\n",
       "<table border=\"1\" class=\"dataframe\">\n",
       "  <thead>\n",
       "    <tr style=\"text-align: right;\">\n",
       "      <th></th>\n",
       "      <th>index</th>\n",
       "      <th>category</th>\n",
       "      <th>datetime</th>\n",
       "      <th>headline</th>\n",
       "      <th>image</th>\n",
       "      <th>source</th>\n",
       "      <th>summary</th>\n",
       "      <th>url</th>\n",
       "      <th>date</th>\n",
       "      <th>sentiment_score</th>\n",
       "      <th>sentiment_label</th>\n",
       "    </tr>\n",
       "    <tr>\n",
       "      <th>id</th>\n",
       "      <th></th>\n",
       "      <th></th>\n",
       "      <th></th>\n",
       "      <th></th>\n",
       "      <th></th>\n",
       "      <th></th>\n",
       "      <th></th>\n",
       "      <th></th>\n",
       "      <th></th>\n",
       "      <th></th>\n",
       "      <th></th>\n",
       "    </tr>\n",
       "  </thead>\n",
       "  <tbody>\n",
       "    <tr>\n",
       "      <th>7475478</th>\n",
       "      <td>0</td>\n",
       "      <td>top news</td>\n",
       "      <td>2025-04-25 00:01:00</td>\n",
       "      <td>Alphabet’s blowout earnings may mark the peak ...</td>\n",
       "      <td>https://static2.finnhub.io/file/publicdatany/f...</td>\n",
       "      <td>MarketWatch</td>\n",
       "      <td>Google’s cloud business has big opportunity ah...</td>\n",
       "      <td>https://www.marketwatch.com/story/alphabets-bl...</td>\n",
       "      <td>2025-04-25</td>\n",
       "      <td>0.5927</td>\n",
       "      <td>Positive</td>\n",
       "    </tr>\n",
       "    <tr>\n",
       "      <th>7475477</th>\n",
       "      <td>2</td>\n",
       "      <td>top news</td>\n",
       "      <td>2025-04-24 23:02:52</td>\n",
       "      <td>Jim Cramer credits this week's rally to earnin...</td>\n",
       "      <td>https://image.cnbcfm.com/api/v1/image/10707631...</td>\n",
       "      <td>CNBC</td>\n",
       "      <td>CNBC's Jim Cramer analyzed recent market action.</td>\n",
       "      <td>https://www.cnbc.com/2025/04/24/jim-cramer-att...</td>\n",
       "      <td>2025-04-24</td>\n",
       "      <td>0.3612</td>\n",
       "      <td>Positive</td>\n",
       "    </tr>\n",
       "  </tbody>\n",
       "</table>\n",
       "</div>"
      ],
      "text/plain": [
       "         index  category             datetime  \\\n",
       "id                                              \n",
       "7475478      0  top news  2025-04-25 00:01:00   \n",
       "7475477      2  top news  2025-04-24 23:02:52   \n",
       "\n",
       "                                                  headline  \\\n",
       "id                                                           \n",
       "7475478  Alphabet’s blowout earnings may mark the peak ...   \n",
       "7475477  Jim Cramer credits this week's rally to earnin...   \n",
       "\n",
       "                                                     image       source  \\\n",
       "id                                                                        \n",
       "7475478  https://static2.finnhub.io/file/publicdatany/f...  MarketWatch   \n",
       "7475477  https://image.cnbcfm.com/api/v1/image/10707631...         CNBC   \n",
       "\n",
       "                                                   summary  \\\n",
       "id                                                           \n",
       "7475478  Google’s cloud business has big opportunity ah...   \n",
       "7475477   CNBC's Jim Cramer analyzed recent market action.   \n",
       "\n",
       "                                                       url        date  \\\n",
       "id                                                                       \n",
       "7475478  https://www.marketwatch.com/story/alphabets-bl...  2025-04-25   \n",
       "7475477  https://www.cnbc.com/2025/04/24/jim-cramer-att...  2025-04-24   \n",
       "\n",
       "         sentiment_score sentiment_label  \n",
       "id                                        \n",
       "7475478           0.5927        Positive  \n",
       "7475477           0.3612        Positive  "
      ]
     },
     "execution_count": 26,
     "metadata": {},
     "output_type": "execute_result"
    }
   ],
   "source": [
    "data.loc[data['sentiment_score'] >0].head(2)"
   ]
  },
  {
   "cell_type": "code",
   "execution_count": 27,
   "id": "89526a61-5fa1-4df6-b541-1b604abd113e",
   "metadata": {},
   "outputs": [
    {
     "data": {
      "text/html": [
       "<div>\n",
       "<style scoped>\n",
       "    .dataframe tbody tr th:only-of-type {\n",
       "        vertical-align: middle;\n",
       "    }\n",
       "\n",
       "    .dataframe tbody tr th {\n",
       "        vertical-align: top;\n",
       "    }\n",
       "\n",
       "    .dataframe thead th {\n",
       "        text-align: right;\n",
       "    }\n",
       "</style>\n",
       "<table border=\"1\" class=\"dataframe\">\n",
       "  <thead>\n",
       "    <tr style=\"text-align: right;\">\n",
       "      <th></th>\n",
       "      <th>index</th>\n",
       "      <th>category</th>\n",
       "      <th>datetime</th>\n",
       "      <th>headline</th>\n",
       "      <th>image</th>\n",
       "      <th>source</th>\n",
       "      <th>summary</th>\n",
       "      <th>url</th>\n",
       "      <th>date</th>\n",
       "      <th>sentiment_score</th>\n",
       "      <th>sentiment_label</th>\n",
       "    </tr>\n",
       "    <tr>\n",
       "      <th>id</th>\n",
       "      <th></th>\n",
       "      <th></th>\n",
       "      <th></th>\n",
       "      <th></th>\n",
       "      <th></th>\n",
       "      <th></th>\n",
       "      <th></th>\n",
       "      <th></th>\n",
       "      <th></th>\n",
       "      <th></th>\n",
       "      <th></th>\n",
       "    </tr>\n",
       "  </thead>\n",
       "  <tbody>\n",
       "    <tr>\n",
       "      <th>7475462</th>\n",
       "      <td>3</td>\n",
       "      <td>top news</td>\n",
       "      <td>2025-04-24 22:50:00</td>\n",
       "      <td>S&amp;P 500’s rapid exit from correction territory...</td>\n",
       "      <td>https://static2.finnhub.io/file/publicdatany/f...</td>\n",
       "      <td>MarketWatch</td>\n",
       "      <td>The stock market just recouped a stunning $4.2...</td>\n",
       "      <td>https://www.marketwatch.com/story/s-p-500s-rap...</td>\n",
       "      <td>2025-04-24</td>\n",
       "      <td>-0.3818</td>\n",
       "      <td>Negative</td>\n",
       "    </tr>\n",
       "    <tr>\n",
       "      <th>7475437</th>\n",
       "      <td>4</td>\n",
       "      <td>top news</td>\n",
       "      <td>2025-04-24 21:32:00</td>\n",
       "      <td>Democrats ask if the $1 billion in DOGE cost-c...</td>\n",
       "      <td>https://static2.finnhub.io/file/publicdatany/f...</td>\n",
       "      <td>MarketWatch</td>\n",
       "      <td>Senators ask for the impact of staffing cuts a...</td>\n",
       "      <td>https://www.marketwatch.com/story/democrats-as...</td>\n",
       "      <td>2025-04-24</td>\n",
       "      <td>-0.2500</td>\n",
       "      <td>Negative</td>\n",
       "    </tr>\n",
       "  </tbody>\n",
       "</table>\n",
       "</div>"
      ],
      "text/plain": [
       "         index  category             datetime  \\\n",
       "id                                              \n",
       "7475462      3  top news  2025-04-24 22:50:00   \n",
       "7475437      4  top news  2025-04-24 21:32:00   \n",
       "\n",
       "                                                  headline  \\\n",
       "id                                                           \n",
       "7475462  S&P 500’s rapid exit from correction territory...   \n",
       "7475437  Democrats ask if the $1 billion in DOGE cost-c...   \n",
       "\n",
       "                                                     image       source  \\\n",
       "id                                                                        \n",
       "7475462  https://static2.finnhub.io/file/publicdatany/f...  MarketWatch   \n",
       "7475437  https://static2.finnhub.io/file/publicdatany/f...  MarketWatch   \n",
       "\n",
       "                                                   summary  \\\n",
       "id                                                           \n",
       "7475462  The stock market just recouped a stunning $4.2...   \n",
       "7475437  Senators ask for the impact of staffing cuts a...   \n",
       "\n",
       "                                                       url        date  \\\n",
       "id                                                                       \n",
       "7475462  https://www.marketwatch.com/story/s-p-500s-rap...  2025-04-24   \n",
       "7475437  https://www.marketwatch.com/story/democrats-as...  2025-04-24   \n",
       "\n",
       "         sentiment_score sentiment_label  \n",
       "id                                        \n",
       "7475462          -0.3818        Negative  \n",
       "7475437          -0.2500        Negative  "
      ]
     },
     "execution_count": 27,
     "metadata": {},
     "output_type": "execute_result"
    }
   ],
   "source": [
    "data.loc[data['sentiment_score']<0].head(2)"
   ]
  },
  {
   "cell_type": "code",
   "execution_count": 28,
   "id": "4e1e6bf5-62de-410f-9853-f0c6b227fe70",
   "metadata": {},
   "outputs": [
    {
     "data": {
      "image/png": "[encoded data removed]",
      "text/plain": [
       "<Figure size 640x480 with 1 Axes>"
      ]
     },
     "metadata": {},
     "output_type": "display_data"
    }
   ],
   "source": [
    "data['sentiment_label'].value_counts().plot(kind=\"bar\",color=['red','green','blue'])\n",
    "plt.xlabel('Sentitment Type')\n",
    "plt.ylabel('No.of Headlines')\n",
    "plt.title('Sentiment of News Headlines')\n",
    "plt.grid(True)\n",
    "plt.show()"
   ]
  },
  {
   "cell_type": "code",
   "execution_count": null,
   "id": "59b0311a-1b73-421b-bc30-f6bca3840760",
   "metadata": {},
   "outputs": [],
   "source": []
  },
  {
   "cell_type": "code",
   "execution_count": null,
   "id": "37e2e499-3aa8-494b-b340-802876bb3623",
   "metadata": {},
   "outputs": [],
   "source": []
  },
  {
   "cell_type": "code",
   "execution_count": null,
   "id": "7fd895c9-f63b-4cc2-addc-ff513620b805",
   "metadata": {},
   "outputs": [],
   "source": []
  }
 ],
 "metadata": {
  "kernelspec": {
   "display_name": "Python 3 (ipykernel)",
   "language": "python",
   "name": "python3"
  },
  "language_info": {
   "codemirror_mode": {
    "name": "ipython",
    "version": 3
   },
   "file_extension": ".py",
   "mimetype": "text/x-python",
   "name": "python",
   "nbconvert_exporter": "python",
   "pygments_lexer": "ipython3",
   "version": "3.12.4"
  }
 },
 "nbformat": 4,
 "nbformat_minor": 5
}
