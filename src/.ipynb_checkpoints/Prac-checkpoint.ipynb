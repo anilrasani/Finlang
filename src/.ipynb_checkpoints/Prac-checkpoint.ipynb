{
 "cells": [
  {
   "cell_type": "code",
   "execution_count": 5,
   "id": "33630d72-6635-4733-8062-e49b0126c2bc",
   "metadata": {},
   "outputs": [],
   "source": [
    "import pandas as pd\n",
    "import requests \n",
    "import json"
   ]
  },
  {
   "cell_type": "code",
   "execution_count": 7,
   "id": "df9ff31f-274b-4e63-8dac-f912dc1ea904",
   "metadata": {},
   "outputs": [
    {
     "name": "stdout",
     "output_type": "stream",
     "text": [
      "Data saved successfully\n"
     ]
    }
   ],
   "source": [
    "finnhub_api_key = 'cpg1ma1r01ql1vn3fk4gcpg1ma1r01ql1vn3fk50'\n",
    "url=f'https://finnhub.io/api/v1/news?category=general&token={finnhub_api_key}'\n",
    "response=requests.get(url)\n",
    "if response.status_code==200:\n",
    "    data=response.json()\n",
    "    with open(r'C:\\Users\\Hi\\Finlang\\data\\api\\extracted_data.json','w') as f:\n",
    "        json.dump(data,f,indent=4)\n",
    "    print('Data saved successfully')\n",
    "else:\n",
    "    print(f'Fetching error .Please check code once..!!{response.status_code}')\n",
    "    print(response.text)\n",
    "    "
   ]
  },
  {
   "cell_type": "code",
   "execution_count": 24,
   "id": "98270e9e-a189-4db5-b747-8b0821621a9c",
   "metadata": {},
   "outputs": [
    {
     "name": "stdout",
     "output_type": "stream",
     "text": [
      "   category    datetime                                           headline  \\\n",
      "0  top news  1744891020  Trump calls for Powell ‘termination’ in way th...   \n",
      "1  top news  1744890480  American Express says its customers are ‘eatin...   \n",
      "\n",
      "        id                                              image related  \\\n",
      "0  7473496  https://static2.finnhub.io/file/publicdatany/f...           \n",
      "1  7473497  https://static2.finnhub.io/file/publicdatany/f...           \n",
      "\n",
      "        source                                            summary  \\\n",
      "0  MarketWatch  Analysts at Evercore led by Krishna Guha said ...   \n",
      "1  MarketWatch  Amex’s CEO said that recent metrics are “in ma...   \n",
      "\n",
      "                                                 url  \n",
      "0  https://www.marketwatch.com/story/trump-calls-...  \n",
      "1  https://www.marketwatch.com/story/american-exp...  \n"
     ]
    }
   ],
   "source": [
    "with open (r'C:\\Users\\Hi\\Finlang\\data\\api\\extracted_data.json','r') as file:\n",
    "    news_data=json.load(file)\n",
    "    data=pd.DataFrame(news_data)\n",
    "    print(data.head(2))\n",
    "data.to_csv(r'C:\\Users\\Hi\\Finlang\\src\\data\\raw\\news_data.csv')"
   ]
  },
  {
   "cell_type": "code",
   "execution_count": 10,
   "id": "38f0f0e7-2aa8-4d70-b6f1-649ce818328d",
   "metadata": {},
   "outputs": [
    {
     "data": {
      "text/html": [
       "<div>\n",
       "<style scoped>\n",
       "    .dataframe tbody tr th:only-of-type {\n",
       "        vertical-align: middle;\n",
       "    }\n",
       "\n",
       "    .dataframe tbody tr th {\n",
       "        vertical-align: top;\n",
       "    }\n",
       "\n",
       "    .dataframe thead th {\n",
       "        text-align: right;\n",
       "    }\n",
       "</style>\n",
       "<table border=\"1\" class=\"dataframe\">\n",
       "  <thead>\n",
       "    <tr style=\"text-align: right;\">\n",
       "      <th></th>\n",
       "      <th>datetime</th>\n",
       "      <th>id</th>\n",
       "    </tr>\n",
       "  </thead>\n",
       "  <tbody>\n",
       "    <tr>\n",
       "      <th>count</th>\n",
       "      <td>1.000000e+02</td>\n",
       "      <td>1.000000e+02</td>\n",
       "    </tr>\n",
       "    <tr>\n",
       "      <th>mean</th>\n",
       "      <td>1.744779e+09</td>\n",
       "      <td>7.473028e+06</td>\n",
       "    </tr>\n",
       "    <tr>\n",
       "      <th>std</th>\n",
       "      <td>4.884564e+04</td>\n",
       "      <td>2.224902e+02</td>\n",
       "    </tr>\n",
       "    <tr>\n",
       "      <th>min</th>\n",
       "      <td>1.744707e+09</td>\n",
       "      <td>7.472688e+06</td>\n",
       "    </tr>\n",
       "    <tr>\n",
       "      <th>25%</th>\n",
       "      <td>1.744736e+09</td>\n",
       "      <td>7.472844e+06</td>\n",
       "    </tr>\n",
       "    <tr>\n",
       "      <th>50%</th>\n",
       "      <td>1.744794e+09</td>\n",
       "      <td>7.473037e+06</td>\n",
       "    </tr>\n",
       "    <tr>\n",
       "      <th>75%</th>\n",
       "      <td>1.744819e+09</td>\n",
       "      <td>7.473220e+06</td>\n",
       "    </tr>\n",
       "    <tr>\n",
       "      <th>max</th>\n",
       "      <td>1.744882e+09</td>\n",
       "      <td>7.473444e+06</td>\n",
       "    </tr>\n",
       "  </tbody>\n",
       "</table>\n",
       "</div>"
      ],
      "text/plain": [
       "           datetime            id\n",
       "count  1.000000e+02  1.000000e+02\n",
       "mean   1.744779e+09  7.473028e+06\n",
       "std    4.884564e+04  2.224902e+02\n",
       "min    1.744707e+09  7.472688e+06\n",
       "25%    1.744736e+09  7.472844e+06\n",
       "50%    1.744794e+09  7.473037e+06\n",
       "75%    1.744819e+09  7.473220e+06\n",
       "max    1.744882e+09  7.473444e+06"
      ]
     },
     "execution_count": 10,
     "metadata": {},
     "output_type": "execute_result"
    }
   ],
   "source": [
    "data.describe()"
   ]
  },
  {
   "cell_type": "code",
   "execution_count": 22,
   "id": "5c21f5f2-6ff8-41a7-9537-d5ca61e7eb41",
   "metadata": {},
   "outputs": [
    {
     "data": {
      "text/plain": [
       "<bound method DataFrame.info of     category    datetime                                           headline  \\\n",
       "0   top news  1744882500  Jensen Huang is visiting China. The Nvidia CEO...   \n",
       "1   top news  1744881480  My husband will inherit $180K. I think we shou...   \n",
       "2   top news  1744880640  Sprawling upstate-N.Y. horse farm offers refug...   \n",
       "3   top news  1744875240  Taiwan Semiconductor says tariffs haven’t chan...   \n",
       "4   top news  1744862460  Is the stock market open on Good Friday? Does ...   \n",
       "..       ...         ...                                                ...   \n",
       "95  top news  1744711260  ‘I ended up getting very sick’: I’m divorcing ...   \n",
       "96  business  1744711201  American Airlines to make Wi-Fi free on most o...   \n",
       "97  top news  1744710540  Chinese official calls Americans peasants afte...   \n",
       "98  top news  1744707780  The multi-million dollar homes of Hailee Stein...   \n",
       "99  top news  1744707480  John Goodman lowers the price of historic New ...   \n",
       "\n",
       "         id                                              image related  \\\n",
       "0   7473444  https://static2.finnhub.io/file/publicdatany/f...           \n",
       "1   7473442  https://static2.finnhub.io/file/publicdatany/f...           \n",
       "2   7473441  https://static2.finnhub.io/file/publicdatany/f...           \n",
       "3   7473421  https://static2.finnhub.io/file/publicdatany/f...           \n",
       "4   7473389  https://static2.finnhub.io/file/publicdatany/f...           \n",
       "..      ...                                                ...     ...   \n",
       "95  7472702  https://static2.finnhub.io/file/publicdatany/f...           \n",
       "96  7472703  https://image.cnbcfm.com/api/v1/image/10805307...           \n",
       "97  7472699  https://static2.finnhub.io/file/publicdatany/f...           \n",
       "98  7472688  https://static2.finnhub.io/file/publicdatany/f...           \n",
       "99  7472689  https://static2.finnhub.io/file/publicdatany/f...           \n",
       "\n",
       "         source                                            summary  \\\n",
       "0   MarketWatch  Nvidia CEO Jensen Huang visited China on Thurs...   \n",
       "1   MarketWatch  “He has $15,000 in investments and $5,500 per ...   \n",
       "2   MarketWatch  Lively appears to be avoiding the spotlight as...   \n",
       "3   MarketWatch  Taiwan Semiconductor Manufacturing Co., the co...   \n",
       "4   MarketWatch  Bond markets will close early on Thursday. Her...   \n",
       "..          ...                                                ...   \n",
       "95  MarketWatch  “I want to focus on the monetary aspect, becau...   \n",
       "96         CNBC  American Airlines is following other airlines ...   \n",
       "97  MarketWatch  China last week condemned Vice President J.D. ...   \n",
       "98  MarketWatch  Actress Hailee Steinfeld and Bills quarterback...   \n",
       "99  MarketWatch  The home has served as a primary residence for...   \n",
       "\n",
       "                                                  url  \n",
       "0   https://www.marketwatch.com/story/jensen-huang...  \n",
       "1   https://www.marketwatch.com/story/my-husband-w...  \n",
       "2   https://www.marketwatch.com/story/sprawling-up...  \n",
       "3   https://www.marketwatch.com/story/taiwan-semic...  \n",
       "4   https://www.marketwatch.com/story/is-the-stock...  \n",
       "..                                                ...  \n",
       "95  https://www.marketwatch.com/story/i-ended-up-g...  \n",
       "96  https://www.cnbc.com/2025/04/15/american-airli...  \n",
       "97  https://www.marketwatch.com/story/chinese-offi...  \n",
       "98  https://www.marketwatch.com/story/the-multi-mi...  \n",
       "99  https://www.marketwatch.com/story/john-goodman...  \n",
       "\n",
       "[100 rows x 9 columns]>"
      ]
     },
     "execution_count": 22,
     "metadata": {},
     "output_type": "execute_result"
    }
   ],
   "source": [
    "data.info\n"
   ]
  },
  {
   "cell_type": "code",
   "execution_count": 12,
   "id": "e0099339-1a13-4532-950a-3e3d20e68c20",
   "metadata": {},
   "outputs": [
    {
     "data": {
      "text/plain": [
       "category    object\n",
       "datetime     int64\n",
       "headline    object\n",
       "id           int64\n",
       "image       object\n",
       "related     object\n",
       "source      object\n",
       "summary     object\n",
       "url         object\n",
       "dtype: object"
      ]
     },
     "execution_count": 12,
     "metadata": {},
     "output_type": "execute_result"
    }
   ],
   "source": [
    "data.dtypes"
   ]
  },
  {
   "cell_type": "code",
   "execution_count": 13,
   "id": "2a2ff76b-2fe7-4984-b330-8513c0111177",
   "metadata": {},
   "outputs": [
    {
     "data": {
      "text/plain": [
       "Index(['category', 'datetime', 'headline', 'id', 'image', 'related', 'source',\n",
       "       'summary', 'url'],\n",
       "      dtype='object')"
      ]
     },
     "execution_count": 13,
     "metadata": {},
     "output_type": "execute_result"
    }
   ],
   "source": [
    "data.columns"
   ]
  },
  {
   "cell_type": "code",
   "execution_count": 20,
   "id": "ecd0423a-5c07-476a-8f09-cb719e9f08b4",
   "metadata": {},
   "outputs": [
    {
     "data": {
      "text/plain": [
       "0     Nvidia CEO Jensen Huang visited China on Thurs...\n",
       "1     “He has $15,000 in investments and $5,500 per ...\n",
       "2     Lively appears to be avoiding the spotlight as...\n",
       "3     Taiwan Semiconductor Manufacturing Co., the co...\n",
       "4     Bond markets will close early on Thursday. Her...\n",
       "                            ...                        \n",
       "95    “I want to focus on the monetary aspect, becau...\n",
       "96    American Airlines is following other airlines ...\n",
       "97    China last week condemned Vice President J.D. ...\n",
       "98    Actress Hailee Steinfeld and Bills quarterback...\n",
       "99    The home has served as a primary residence for...\n",
       "Name: summary, Length: 100, dtype: object"
      ]
     },
     "execution_count": 20,
     "metadata": {},
     "output_type": "execute_result"
    }
   ],
   "source": [
    "data['summary']"
   ]
  },
  {
   "cell_type": "code",
   "execution_count": null,
   "id": "e8c108a7-e670-4d50-b6ab-1731d7488a77",
   "metadata": {},
   "outputs": [],
   "source": []
  },
  {
   "cell_type": "code",
   "execution_count": null,
   "id": "e022060b-cbb4-4ba4-91a6-06f1098da360",
   "metadata": {},
   "outputs": [],
   "source": []
  },
  {
   "cell_type": "code",
   "execution_count": 5,
   "id": "5d83754b-feee-4fa9-af4c-fa9ab7fa48d4",
   "metadata": {},
   "outputs": [
    {
     "name": "stdout",
     "output_type": "stream",
     "text": [
      "       Name Symbol     Price Usd     Volume24h     Volume30d     MarketCap  \\\n",
      "0   Bitcoin    BTC  24620.849470  3.745915e+10  4.822270e+11  4.749990e+11   \n",
      "1  Ethereum    ETH   1688.699934  1.243162e+10  1.504000e+11  2.066530e+11   \n",
      "2    Tether   USDT      1.000223  5.244734e+10  6.491090e+11  6.980130e+10   \n",
      "3       BNB    BNB    321.785343  9.556956e+08  1.056193e+10  5.080931e+10   \n",
      "4  USD Coin   USDC      1.000039  5.046872e+09  7.770599e+10  4.151303e+10   \n",
      "\n",
      "   Dominance  YtdPriceChangePercentage  cmcRank  marketPairCount  \\\n",
      "0    42.6334                   48.0946        1             9982   \n",
      "1    18.5435                   40.6119        2             6463   \n",
      "2     6.2660                    0.0531        3            47649   \n",
      "3     4.5601                   31.8052        4             1190   \n",
      "4     3.7254                    0.0046        5            10109   \n",
      "\n",
      "   circulatingSupply   totalSupply  \n",
      "0       1.929256e+07  1.929256e+07  \n",
      "1       1.223739e+08  1.223739e+08  \n",
      "2       6.978573e+10  7.314177e+10  \n",
      "3       1.578982e+08  1.599800e+08  \n",
      "4       4.151139e+10  4.151139e+10  \n"
     ]
    }
   ],
   "source": [
    "import pandas as pd\n",
    "\n",
    "data=pd.read_csv(r'C:\\Users\\Hi\\Finlang\\data\\kaggle\\Cryptocurrency Prices Dataset.csv')\n",
    "print(data.head(5))"
   ]
  },
  {
   "cell_type": "code",
   "execution_count": 6,
   "id": "d1e07d5b-b69f-47ea-af2e-cb3ace86536b",
   "metadata": {},
   "outputs": [
    {
     "name": "stdout",
     "output_type": "stream",
     "text": [
      "                      NAME  Unnamed: 1           DEPARTMENT_NAME  \\\n",
      "0           Abadi,Kidani A         NaN      Assessing Department   \n",
      "1         Abasciano,Joseph         NaN  Boston Police Department   \n",
      "2   Abban,Christopher John         NaN    Boston Fire Department   \n",
      "3            Abbasi,Sophia         NaN             Green Academy   \n",
      "4  Abbate-Vaughn,Jorgelina         NaN      BPS Ellis Elementary   \n",
      "\n",
      "                  TITLE      REGULAR RETRO      OTHER    OVERTIME     INJURED  \\\n",
      "0      Property Officer   $46,291.98   NaN    $300.00         NaN         NaN   \n",
      "1        Police Officer    $6,933.66   NaN    $850.00     $205.92  $74,331.86   \n",
      "2          Fire Fighter  $103,442.22   NaN    $550.00  $15,884.53         NaN   \n",
      "3  Manager (C) (non-ac)   $18,249.83   NaN        NaN         NaN         NaN   \n",
      "4               Teacher   $84,410.28   NaN  $1,250.00         NaN         NaN   \n",
      "\n",
      "      DETAIL QUINN/EDUCATION INCENTIVE TOTAL EARNINGS POSTAL Gender  \n",
      "0        NaN                       NaN     $46,591.98   2118      M  \n",
      "1        NaN                $15,258.44     $97,579.88   2132      M  \n",
      "2  $4,746.50                       NaN    $124,623.25   2132      M  \n",
      "3        NaN                       NaN     $18,249.83   2148      M  \n",
      "4        NaN                       NaN     $85,660.28   2481      M  \n"
     ]
    }
   ],
   "source": [
    "import pandas as pd\n",
    "\n",
    "data=pd.read_csv(r'C:\\Users\\Hi\\Finlang\\data\\kaggle\\Employee_Earnings_Report_2016.csv')\n",
    "print(data.head(5))"
   ]
  },
  {
   "cell_type": "code",
   "execution_count": null,
   "id": "4c1313cc-7262-48fc-bf9f-a562103b9c97",
   "metadata": {},
   "outputs": [],
   "source": []
  }
 ],
 "metadata": {
  "kernelspec": {
   "display_name": "Python 3 (ipykernel)",
   "language": "python",
   "name": "python3"
  },
  "language_info": {
   "codemirror_mode": {
    "name": "ipython",
    "version": 3
   },
   "file_extension": ".py",
   "mimetype": "text/x-python",
   "name": "python",
   "nbconvert_exporter": "python",
   "pygments_lexer": "ipython3",
   "version": "3.12.4"
  }
 },
 "nbformat": 4,
 "nbformat_minor": 5
}
